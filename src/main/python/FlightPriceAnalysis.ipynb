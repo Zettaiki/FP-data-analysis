{
 "cells": [
  {
   "metadata": {},
   "cell_type": "markdown",
   "source": "# Flight price analysis",
   "id": "75ba5ce5445b3763"
  },
  {
   "metadata": {},
   "cell_type": "markdown",
   "source": "This notebook is used to analyze the flight prices dataset. The dataset contains information about flights, including the price, departure and arrival times, and other relevant features. The goal of this analysis is to understand the factors that influence flight prices and get insights for the creation of pipelines to process the data.",
   "id": "806f6a61979995d9"
  },
  {
   "metadata": {},
   "cell_type": "markdown",
   "source": "## Setup: Importing libraries and dataset",
   "id": "7f242d0e4dba1863"
  },
  {
   "metadata": {},
   "cell_type": "markdown",
   "source": "To the analysis, we will use the following libraries: **Kaggle**, **NumPy**, **Pandas**, **Matplotlib**, and **Seaborn**. Make sure to install them before running the notebook.",
   "id": "1af74a37b80e171a"
  },
  {
   "metadata": {},
   "cell_type": "code",
   "source": "!pip install kaggle numpy pandas matplotlib seaborn",
   "id": "bfd348e73ebc8aba",
   "outputs": [],
   "execution_count": null
  },
  {
   "metadata": {},
   "cell_type": "markdown",
   "source": "> **Note**: The Kaggle API is used to download the dataset. Make sure to set up your Kaggle API credentials before running the next cell. You can find instructions on how to do this [here](https://github.com/Kaggle/kaggle-api/blob/main/docs/README.md#api-credentials).",
   "id": "b3759e853462027"
  },
  {
   "metadata": {},
   "cell_type": "code",
   "source": [
    "import kaggle, os, random\n",
    "\n",
    "import numpy as np\n",
    "import pandas as pd\n",
    "import seaborn as sns\n",
    "import matplotlib as plt"
   ],
   "id": "a15581bc41e7ee1e",
   "outputs": [],
   "execution_count": null
  },
  {
   "metadata": {},
   "cell_type": "markdown",
   "source": [
    "Now we can download the dataset from Kaggle. The dataset is stored in the `/datasets` directory. If the dataset is not found, it will be downloaded from Kaggle. Also, you can download the dataset from [here](https://www.kaggle.com/datasets/dilwong/flightprices).\n",
    "\n",
    "> **Note**: The dataset is quite large, so it may take some time to download. Make sure you have enough disk space before running the next cell."
   ],
   "id": "216dd7dc25fa87e9"
  },
  {
   "metadata": {
    "ExecuteTime": {
     "end_time": "2025-04-24T15:51:13.715410Z",
     "start_time": "2025-04-24T15:51:13.711046Z"
    }
   },
   "cell_type": "code",
   "source": [
    "if not os.path.exists('../../../datasets/itineraries.csv'):\n",
    "    kaggle.api.authenticate()\n",
    "    kaggle.api.dataset_download_files(\"dilwong/flightprices\", path='../../../datasets', unzip=True)"
   ],
   "id": "1ec8c99d99398629",
   "outputs": [],
   "execution_count": 5
  },
  {
   "metadata": {},
   "cell_type": "markdown",
   "source": "## Exploring the dataset",
   "id": "3b75042fa17734f"
  },
  {
   "metadata": {},
   "cell_type": "code",
   "outputs": [],
   "execution_count": null,
   "source": "",
   "id": "b4276f5b4b379dcf"
  },
  {
   "metadata": {},
   "cell_type": "markdown",
   "source": "",
   "id": "7731189a72878af2"
  },
  {
   "metadata": {},
   "cell_type": "code",
   "outputs": [],
   "execution_count": null,
   "source": "",
   "id": "bcf07fe66e6ab2e1"
  }
 ],
 "metadata": {
  "kernelspec": {
   "display_name": "Python 3 (ipykernel)",
   "language": "python",
   "name": "python3"
  },
  "language_info": {
   "codemirror_mode": {
    "name": "ipython",
    "version": 2
   },
   "file_extension": ".py",
   "mimetype": "text/x-python",
   "name": "python",
   "nbconvert_exporter": "python",
   "pygments_lexer": "ipython2",
   "version": "2.7.6"
  }
 },
 "nbformat": 4,
 "nbformat_minor": 5
}
