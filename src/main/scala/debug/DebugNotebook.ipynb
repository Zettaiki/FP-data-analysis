{
 "cells": [
  {
   "metadata": {},
   "cell_type": "markdown",
   "source": "# Debug Notebook",
   "id": "6c18f72de68004f7"
  },
  {
   "metadata": {},
   "cell_type": "markdown",
   "source": "This notebook is used to debug and test the Spark environment and configurations.",
   "id": "bf3e16edafae4b7c"
  },
  {
   "metadata": {},
   "cell_type": "markdown",
   "source": "## Setup",
   "id": "40bc65c21381e35a"
  },
  {
   "cell_type": "code",
   "id": "initial_id",
   "metadata": {
    "collapsed": true
   },
   "source": [
    "import org.apache.spark.rdd.RDD\n",
    "import org.apache.spark.sql.SparkSession\n",
    "import org.apache.spark.sql.Row"
   ],
   "outputs": [],
   "execution_count": null
  },
  {
   "metadata": {},
   "cell_type": "code",
   "source": [
    "val spark = SparkSession.builder\n",
    "  .appName(\"Debug\")\n",
    "  .getOrCreate()"
   ],
   "id": "26ed389eb4c9a2d5",
   "outputs": [],
   "execution_count": null
  },
  {
   "metadata": {},
   "cell_type": "markdown",
   "source": "## Data loading, parsing, and cleaning",
   "id": "739197a3cf26cc50"
  },
  {
   "metadata": {},
   "cell_type": "markdown",
   "source": [
    "The structure of the dataset is as follows:\n",
    "- **legId**: An identifier for the flight.\n",
    "- **searchDate**: The date (`YYYY-MM-DD`) on which this entry was taken from Expedia.\n",
    "- **flightDate**: The date (`YYYY-MM-DD`) of the flight.\n",
    "- **startingAirport**: Three-character IATA airport code for the initial location.\n",
    "- **destinationAirport**: Three-character IATA airport code for the arrival location.\n",
    "- **fareBasisCode**: The fare basis code.\n",
    "- **travelDuration**: The travel duration in hours and minutes.\n",
    "- **elapsedDays**: The number of elapsed days (usually 0).\n",
    "- **isBasicEconomy**: Boolean indicating whether the ticket is for basic economy.\n",
    "- **isRefundable**: Boolean indicating whether the ticket is refundable.\n",
    "- **isNonStop**: Boolean indicating whether the flight is non-stop.\n",
    "- **baseFare**: The price of the ticket (in USD).\n",
    "- **totalFare**: The price of the ticket (in USD) including taxes and other fees.\n",
    "- **seatsRemaining**: Integer indicating the number of seats remaining.\n",
    "- **totalTravelDistance**: The total travel distance in miles. This data is sometimes missing.\n",
    "- **segmentsDepartureTimeEpochSeconds**: String containing the departure time (Unix time) for each leg of the trip, separated by `||`.\n",
    "- **segmentsDepartureTimeRaw**: String containing the departure time (ISO 8601 format: `YYYY-MM-DDThh:mm:ss.000±[hh]:00`) for each leg of the trip, separated by `||`.\n",
    "- **segmentsArrivalTimeEpochSeconds**: String containing the arrival time (Unix time) for each leg of the trip, separated by `||`.\n",
    "- **segmentsArrivalTimeRaw**: String containing the arrival time (ISO 8601 format: `YYYY-MM-DDThh:mm:ss.000±[hh]:00`) for each leg of the trip, separated by `||`.\n",
    "- **segmentsArrivalAirportCode**: String containing the IATA airport code for the arrival location for each leg of the trip, separated by `||`.\n",
    "- **segmentsDepartureAirportCode**: String containing the IATA airport code for the departure location for each leg of the trip, separated by `||`.\n",
    "- **segmentsAirlineName**: String containing the name of the airline that services each leg of the trip, separated by `||`.\n",
    "- **segmentsAirlineCode**: String containing the two-letter airline code that services each leg of the trip, separated by `||`.\n",
    "- **segmentsEquipmentDescription**: String containing the type of airplane used for each leg of the trip (e.g., \"Airbus A321\" or \"Boeing 737-800\"), separated by `||`.\n",
    "- **segmentsDurationInSeconds**: String containing the duration of the flight (in seconds) for each leg of the trip, separated by `||`.\n",
    "- **segmentsDistance**: String containing the distance traveled (in miles) for each leg of the trip, separated by `||`.\n",
    "- **segmentsCabinCode**: String containing the cabin class for each leg of the trip (e.g., \"coach\"), separated by `||`.\n"
   ],
   "id": "dcd767c7d0d0700"
  },
  {
   "metadata": {},
   "cell_type": "markdown",
   "source": "Because the `travelDuration` rows are in ISO 8601 format, we will convert them to integer minutes for easier processing.",
   "id": "b40f24a9751eb0a5"
  },
  {
   "metadata": {},
   "cell_type": "code",
   "source": [
    "def parseDurationToMinutes(duration: String): Int = {\n",
    "    val hourPattern = \"PT(\\\\d+)H\".r\n",
    "    val minutePattern = \"PT(?:\\\\d+H)?(\\\\d+)M\".r\n",
    "\n",
    "    val hours = hourPattern.findFirstMatchIn(duration).map(_.group(1).toInt).getOrElse(0)\n",
    "    val minutes = minutePattern.findFirstMatchIn(duration).map(_.group(1).toInt).getOrElse(0)\n",
    "\n",
    "    hours * 60 + minutes\n",
    "}"
   ],
   "id": "ff928bdce4cb8487",
   "outputs": [],
   "execution_count": null
  },
  {
   "metadata": {},
   "cell_type": "markdown",
   "source": "Because of the tuple maximum limit, we will use the `Row` class to represent each record in the dataset.",
   "id": "680ff5622a7667a0"
  },
  {
   "metadata": {},
   "cell_type": "code",
   "source": [
    "def parseLineToRow(line: String): Row = {\n",
    "    val columns = line.split(\",\", -1).map(_.trim)\n",
    "\n",
    "    try {\n",
    "        Row(\n",
    "            columns(0), // legId\n",
    "            columns(1), // searchDate\n",
    "            columns(2), // flightDate\n",
    "            columns(3), // startingAirport\n",
    "            columns(4), // destinationAirport\n",
    "            columns(5), // fareBasisCode\n",
    "            parseDurationToMinutes(columns(6)),\n",
    "            columns(7).toInt, // elapsedDays\n",
    "            columns(8).toBoolean, // isBasicEconomy\n",
    "            columns(9).toBoolean, // isRefundable\n",
    "            columns(10).toBoolean, // isNonStop\n",
    "            columns(11).toDouble, // baseFare\n",
    "            columns(12).toDouble, // totalFare\n",
    "            columns(13).toInt, // seatsRemaining\n",
    "            if (columns(14).isEmpty) null else columns(14).toDouble,\n",
    "            columns(15), // segmentsDepartureTimeEpochSeconds\n",
    "            columns(16), // segmentsDepartureTimeRaw\n",
    "            columns(17), // segmentsArrivalTimeEpochSeconds\n",
    "            columns(18), // segmentsArrivalTimeRaw\n",
    "            columns(19), // segmentsArrivalAirportCode\n",
    "            columns(20), // segmentsDepartureAirportCode\n",
    "            columns(21), // segmentsAirlineName\n",
    "            columns(22), // segmentsAirlineCode\n",
    "            columns(23), // segmentsEquipmentDescription\n",
    "            columns(24), // segmentsDurationInSeconds\n",
    "            columns(25), // segmentsDistance\n",
    "            columns(26)  // segmentsCabinCode\n",
    "        )\n",
    "    } catch {\n",
    "        case e: Exception =>\n",
    "            println(s\"Error parsing line: $line\")\n",
    "            throw e\n",
    "    }\n",
    "}"
   ],
   "id": "f06ca87f9a6b0a76",
   "outputs": [],
   "execution_count": null
  },
  {
   "metadata": {},
   "cell_type": "markdown",
   "source": "Now we can load the dataset and parse it into an RDD of `FlightRecord` objects.",
   "id": "9f50c30cdc190932"
  },
  {
   "metadata": {},
   "cell_type": "code",
   "source": [
    "val path = \"../../../../datasets/itineraries_sample.csv\"\n",
    "\n",
    "val rddRaw = spark.sparkContext.textFile(path)\n",
    "val rddParsed = rddRaw\n",
    "  .filter(line => !line.startsWith(\"legId\")) // Skip header\n",
    "  .map(parseLineToRow)"
   ],
   "id": "ebb4a5017fab04b0",
   "outputs": [],
   "execution_count": null
  },
  {
   "metadata": {},
   "cell_type": "code",
   "source": "rddParsed.take(5).foreach(println)",
   "id": "bef4e33175a5d3ab",
   "outputs": [],
   "execution_count": null
  },
  {
   "metadata": {},
   "cell_type": "markdown",
   "source": "Before proceding, we will clean the data by removing records with missing or invalid values.",
   "id": "41a0e861a4d39c1e"
  },
  {
   "metadata": {},
   "cell_type": "code",
   "source": [
    "val rddClean = rddParsed.filter { row =>\n",
    "    (0 until row.length).forall { i =>\n",
    "        val value = row.get(i)\n",
    "        value != null && value.toString.nonEmpty\n",
    "    }\n",
    "}"
   ],
   "id": "90e43d6f04bb81a",
   "outputs": [],
   "execution_count": null
  },
  {
   "metadata": {},
   "cell_type": "code",
   "source": [
    "val totalRows = rddClean.count()\n",
    "println(s\"Total rows: $totalRows\")"
   ],
   "id": "c0341cf94ae72151",
   "outputs": [],
   "execution_count": null
  },
  {
   "metadata": {},
   "cell_type": "markdown",
   "source": "The other columns are already in a suitable format, so we can proceed with the analysis. Other columns will be left as strings because they are out of scope for the future jobs.",
   "id": "ab049fc033ffd1d3"
  },
  {
   "metadata": {},
   "cell_type": "markdown",
   "source": "## Jobs",
   "id": "4c1d791ca28a5726"
  },
  {
   "metadata": {},
   "cell_type": "markdown",
   "source": [
    "- **Average Flight Price per Route:** Calculate the average ticket price for each departure-destination pair.\n",
    "- **Direct vs. Connecting Flights Price Comparison:** Compare average prices between non-stop and connecting flights."
   ],
   "id": "800fb46a6e0bb3af"
  },
  {
   "metadata": {},
   "cell_type": "markdown",
   "source": "### Job 1: Average Flight Price per Route",
   "id": "db8b94269483d959"
  },
  {
   "metadata": {},
   "cell_type": "markdown",
   "source": "#### Non-optimized version",
   "id": "9eccbe929a908eb7"
  },
  {
   "metadata": {},
   "cell_type": "code",
   "source": "",
   "id": "accd5fa6040eafd7",
   "outputs": [],
   "execution_count": null
  },
  {
   "metadata": {},
   "cell_type": "markdown",
   "source": "#### Optimized version\n",
   "id": "cd13d9d9f4f8f660"
  },
  {
   "metadata": {},
   "cell_type": "code",
   "source": "",
   "id": "a2eec8b541e17a29",
   "outputs": [],
   "execution_count": null
  },
  {
   "metadata": {},
   "cell_type": "markdown",
   "source": "### Job 2: Direct vs. Connecting Flights Price Comparison",
   "id": "169f321e484cbdd5"
  },
  {
   "metadata": {},
   "cell_type": "markdown",
   "source": "#### Non-optimized version",
   "id": "82fc3ed853c88e8f"
  },
  {
   "metadata": {},
   "cell_type": "code",
   "outputs": [],
   "execution_count": null,
   "source": "",
   "id": "4d6d2dc0a4ef328c"
  },
  {
   "metadata": {},
   "cell_type": "markdown",
   "source": "#### Optimized version",
   "id": "c0ed7a0bbaa756d"
  },
  {
   "metadata": {},
   "cell_type": "code",
   "source": "",
   "id": "c0740a66fa91414c",
   "outputs": [],
   "execution_count": null
  }
 ],
 "metadata": {
  "kernelspec": {
   "display_name": "spylon-kernel",
   "language": "scala",
   "name": "spylon-kernel"
  },
  "language_info": {
   "codemirror_mode": {
    "name": "ipython",
    "version": 2
   },
   "file_extension": ".py",
   "mimetype": "text/x-python",
   "name": "python",
   "nbconvert_exporter": "python",
   "pygments_lexer": "ipython2",
   "version": "2.7.6"
  }
 },
 "nbformat": 4,
 "nbformat_minor": 5
}
