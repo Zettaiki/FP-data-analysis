{
 "cells": [
  {
   "metadata": {},
   "cell_type": "markdown",
   "source": "# Debug Notebook",
   "id": "6c18f72de68004f7"
  },
  {
   "metadata": {},
   "cell_type": "markdown",
   "source": "This notebook is used to debug and test the Spark environment and configurations.",
   "id": "bf3e16edafae4b7c"
  },
  {
   "metadata": {},
   "cell_type": "markdown",
   "source": "## Setup",
   "id": "40bc65c21381e35a"
  },
  {
   "cell_type": "code",
   "id": "initial_id",
   "metadata": {
    "collapsed": true,
    "ExecuteTime": {
     "end_time": "2025-07-04T19:52:26.943282Z",
     "start_time": "2025-07-04T19:52:26.589221Z"
    }
   },
   "source": [
    "import org.apache.spark.rdd.RDD\n",
    "import org.apache.spark.sql.SparkSession\n",
    "import org.apache.spark.sql.Row\n",
    "\n",
    "import java.time.LocalDate\n",
    "import java.time.format.DateTimeFormatter\n",
    "import java.io.{File, PrintWriter}"
   ],
   "outputs": [
    {
     "data": {
      "text/plain": [
       "import org.apache.spark.rdd.RDD\r\n",
       "import org.apache.spark.sql.SparkSession\r\n",
       "import org.apache.spark.sql.Row\r\n",
       "import java.time.LocalDate\r\n",
       "import java.time.format.DateTimeFormatter\r\n",
       "import java.io.{File, PrintWriter}\r\n"
      ]
     },
     "execution_count": 1,
     "metadata": {},
     "output_type": "execute_result"
    }
   ],
   "execution_count": 1
  },
  {
   "metadata": {
    "ExecuteTime": {
     "end_time": "2025-07-04T19:52:28.359041Z",
     "start_time": "2025-07-04T19:52:26.966895Z"
    }
   },
   "cell_type": "code",
   "source": [
    "val path_to_datasets = \"../../../../datasets/\"\n",
    "val path_to_output = \"../../../../src/main/outputs/\"\n",
    "\n",
    "val path_to_sample = path_to_datasets + \"itineraries_sample.csv\"\n",
    "\n",
    "val spark = SparkSession.builder\n",
    "  .appName(\"Debug\")\n",
    "  .getOrCreate()"
   ],
   "id": "26ed389eb4c9a2d5",
   "outputs": [
    {
     "data": {
      "text/plain": [
       "path_to_datasets: String = ../../../../datasets/\r\n",
       "path_to_output: String = ../../../../src/main/outputs/\r\n",
       "path_to_sample: String = ../../../../datasets/itineraries_sample.csv\r\n",
       "spark: org.apache.spark.sql.SparkSession = org.apache.spark.sql.SparkSession@568f509d\r\n"
      ]
     },
     "execution_count": 2,
     "metadata": {},
     "output_type": "execute_result"
    }
   ],
   "execution_count": 2
  },
  {
   "metadata": {},
   "cell_type": "markdown",
   "source": "## Data loading, parsing, and cleaning",
   "id": "739197a3cf26cc50"
  },
  {
   "metadata": {},
   "cell_type": "markdown",
   "source": [
    "The structure of the dataset is as follows:\n",
    "- **legId**: An identifier for the flight.\n",
    "- **searchDate**: The date (`YYYY-MM-DD`) on which this entry was taken from Expedia.\n",
    "- **flightDate**: The date (`YYYY-MM-DD`) of the flight.\n",
    "- **startingAirport**: Three-character IATA airport code for the initial location.\n",
    "- **destinationAirport**: Three-character IATA airport code for the arrival location.\n",
    "- **fareBasisCode**: The fare basis code.\n",
    "- **travelDuration**: The travel duration in hours and minutes.\n",
    "- **elapsedDays**: The number of elapsed days (usually 0).\n",
    "- **isBasicEconomy**: Boolean indicating whether the ticket is for basic economy.\n",
    "- **isRefundable**: Boolean indicating whether the ticket is refundable.\n",
    "- **isNonStop**: Boolean indicating whether the flight is non-stop.\n",
    "- **baseFare**: The price of the ticket (in USD).\n",
    "- **totalFare**: The price of the ticket (in USD) including taxes and other fees.\n",
    "- **seatsRemaining**: Integer indicating the number of seats remaining.\n",
    "- **totalTravelDistance**: The total travel distance in miles. This data is sometimes missing.\n",
    "- **segmentsDepartureTimeEpochSeconds**: String containing the departure time (Unix time) for each leg of the trip, separated by `||`.\n",
    "- **segmentsDepartureTimeRaw**: String containing the departure time (ISO 8601 format: `YYYY-MM-DDThh:mm:ss.000±[hh]:00`) for each leg of the trip, separated by `||`.\n",
    "- **segmentsArrivalTimeEpochSeconds**: String containing the arrival time (Unix time) for each leg of the trip, separated by `||`.\n",
    "- **segmentsArrivalTimeRaw**: String containing the arrival time (ISO 8601 format: `YYYY-MM-DDThh:mm:ss.000±[hh]:00`) for each leg of the trip, separated by `||`.\n",
    "- **segmentsArrivalAirportCode**: String containing the IATA airport code for the arrival location for each leg of the trip, separated by `||`.\n",
    "- **segmentsDepartureAirportCode**: String containing the IATA airport code for the departure location for each leg of the trip, separated by `||`.\n",
    "- **segmentsAirlineName**: String containing the name of the airline that services each leg of the trip, separated by `||`.\n",
    "- **segmentsAirlineCode**: String containing the two-letter airline code that services each leg of the trip, separated by `||`.\n",
    "- **segmentsEquipmentDescription**: String containing the type of airplane used for each leg of the trip (e.g., \"Airbus A321\" or \"Boeing 737-800\"), separated by `||`.\n",
    "- **segmentsDurationInSeconds**: String containing the duration of the flight (in seconds) for each leg of the trip, separated by `||`.\n",
    "- **segmentsDistance**: String containing the distance traveled (in miles) for each leg of the trip, separated by `||`.\n",
    "- **segmentsCabinCode**: String containing the cabin class for each leg of the trip (e.g., \"coach\"), separated by `||`.\n"
   ],
   "id": "dcd767c7d0d0700"
  },
  {
   "metadata": {
    "ExecuteTime": {
     "end_time": "2025-07-04T19:52:28.955725Z",
     "start_time": "2025-07-04T19:52:28.365023Z"
    }
   },
   "cell_type": "code",
   "source": [
    "case class Flight(\n",
    "    legId: String,\n",
    "    searchDate: LocalDate,\n",
    "    flightDate: LocalDate,\n",
    "    startingAirport: String,\n",
    "    destinationAirport: String,\n",
    "    fareBasisCode: String,\n",
    "    travelDuration: Int,\n",
    "    elapsedDays: Int,\n",
    "    isBasicEconomy: Boolean,\n",
    "    isRefundable: Boolean,\n",
    "    isNonStop: Boolean,\n",
    "    baseFare: Double,\n",
    "    totalFare: Double,\n",
    "    seatsRemaining: Int,\n",
    "    totalTravelDistance: Double,\n",
    "    segmentsDepartureTimeEpochSeconds: String,\n",
    "    segmentsDepartureTimeRaw: String,\n",
    "    segmentsArrivalTimeEpochSeconds: String,\n",
    "    segmentsArrivalTimeRaw: String,\n",
    "    segmentsArrivalAirportCode: String,\n",
    "    segmentsDepartureAirportCode: String,\n",
    "    segmentsAirlineName: String,\n",
    "    segmentsAirlineCode: String,\n",
    "    segmentsEquipmentDescription: String,\n",
    "    segmentsDurationInSeconds: String,\n",
    "    segmentsDistance: String,\n",
    "    segmentsCabinCode: String\n",
    ")"
   ],
   "id": "3dafcb60417dcf0b",
   "outputs": [
    {
     "data": {
      "text/plain": [
       "defined class Flight\r\n"
      ]
     },
     "execution_count": 3,
     "metadata": {},
     "output_type": "execute_result"
    }
   ],
   "execution_count": 3
  },
  {
   "metadata": {
    "ExecuteTime": {
     "end_time": "2025-07-04T19:52:29.481365Z",
     "start_time": "2025-07-04T19:52:28.974703Z"
    }
   },
   "cell_type": "code",
   "source": [
    "def parseLine(line: String): Option[Flight] = {\n",
    "    try {\n",
    "        val cols = line.split(\",\", -1).map(_.trim)\n",
    "        val dateFormatter = DateTimeFormatter.ofPattern(\"yyyy-MM-dd\")\n",
    "\n",
    "        def parseDurationToMinutes(duration: String): Int = {\n",
    "            val hourPattern = \"PT(\\\\d+)H\".r\n",
    "            val minutePattern = \"PT(?:\\\\d+H)?(\\\\d+)M\".r\n",
    "\n",
    "            val hours = hourPattern.findFirstMatchIn(duration).map(_.group(1).toInt).getOrElse(0)\n",
    "            val minutes = minutePattern.findFirstMatchIn(duration).map(_.group(1).toInt).getOrElse(0)\n",
    "\n",
    "            hours * 60 + minutes\n",
    "        }\n",
    "\n",
    "        def toIntSafe(s: String): Int = try { s.toInt } catch { case _: Exception => 0 }\n",
    "        def toDoubleSafe(s: String): Double = try { s.toDouble } catch { case _: Exception => 0.0 }\n",
    "        def toBooleanSafe(s: String): Boolean = try { s.toBoolean } catch { case _: Exception => false }\n",
    "\n",
    "        val flight = Flight(\n",
    "            legId = cols(0),\n",
    "            searchDate = LocalDate.parse(cols(1), dateFormatter),\n",
    "            flightDate = LocalDate.parse(cols(2), dateFormatter),\n",
    "            startingAirport = cols(3),\n",
    "            destinationAirport = cols(4),\n",
    "            fareBasisCode = cols(5),\n",
    "            travelDuration = parseDurationToMinutes(cols(6)),\n",
    "            elapsedDays = toIntSafe(cols(7)),\n",
    "            isBasicEconomy = toBooleanSafe(cols(8)),\n",
    "            isRefundable = toBooleanSafe(cols(9)),\n",
    "            isNonStop = toBooleanSafe(cols(10)),\n",
    "            baseFare = toDoubleSafe(cols(11)),\n",
    "            totalFare = toDoubleSafe(cols(12)),\n",
    "            seatsRemaining = toIntSafe(cols(13)),\n",
    "            totalTravelDistance = toDoubleSafe(cols(14)),\n",
    "            segmentsDepartureTimeEpochSeconds = cols(15),\n",
    "            segmentsDepartureTimeRaw = cols(16),\n",
    "            segmentsArrivalTimeEpochSeconds = cols(17),\n",
    "            segmentsArrivalTimeRaw = cols(18),\n",
    "            segmentsArrivalAirportCode = cols(19),\n",
    "            segmentsDepartureAirportCode = cols(20),\n",
    "            segmentsAirlineName = cols(21),\n",
    "            segmentsAirlineCode = cols(22),\n",
    "            segmentsEquipmentDescription = cols(23),\n",
    "            segmentsDurationInSeconds = cols(24),\n",
    "            segmentsDistance = cols(25),\n",
    "            segmentsCabinCode = cols(26)\n",
    "        )\n",
    "\n",
    "        Some(flight)\n",
    "    } catch {\n",
    "        case e: Exception =>\n",
    "            println(s\"[PARSE ERROR] Line: $line\\nError: ${e.getMessage}\")\n",
    "            None\n",
    "    }\n",
    "}"
   ],
   "id": "f06ca87f9a6b0a76",
   "outputs": [
    {
     "data": {
      "text/plain": [
       "parseLine: (line: String)Option[Flight]\r\n"
      ]
     },
     "execution_count": 4,
     "metadata": {},
     "output_type": "execute_result"
    }
   ],
   "execution_count": 4
  },
  {
   "metadata": {},
   "cell_type": "markdown",
   "source": "### Data parsing",
   "id": "f67086ee7050e648"
  },
  {
   "metadata": {
    "ExecuteTime": {
     "end_time": "2025-07-04T19:52:30.240199Z",
     "start_time": "2025-07-04T19:52:29.509643Z"
    }
   },
   "cell_type": "code",
   "source": [
    "var rddRaw = spark.sparkContext.textFile(path_to_sample).filter(line => !line.startsWith(\"legId\"))\n",
    "var rddParsed = rddRaw.flatMap(parseLine)"
   ],
   "id": "ebb4a5017fab04b0",
   "outputs": [
    {
     "data": {
      "text/plain": [
       "rddRaw: org.apache.spark.rdd.RDD[String] = MapPartitionsRDD[2] at filter at <console>:32\r\n",
       "rddParsed: org.apache.spark.rdd.RDD[Flight] = MapPartitionsRDD[3] at flatMap at <console>:33\r\n"
      ]
     },
     "execution_count": 5,
     "metadata": {},
     "output_type": "execute_result"
    }
   ],
   "execution_count": 5
  },
  {
   "metadata": {},
   "cell_type": "markdown",
   "source": "## Jobs",
   "id": "4c1d791ca28a5726"
  },
  {
   "metadata": {},
   "cell_type": "markdown",
   "source": [
    "- **Average Flight Price per Route with Classification:** Calculate the average ticket price for each departure-destination pair, then classify each route as \"Cheap,\" \"Moderate,\" or \"Expensive\" based on the calculated average price.\n",
    "- **Direct vs. Connecting Flights Price Comparison:**  Compare average ticket prices between non-stop and connecting flights on each route to analyze fare differences by flight type."
   ],
   "id": "800fb46a6e0bb3af"
  },
  {
   "metadata": {},
   "cell_type": "markdown",
   "source": "### Non-optimized version",
   "id": "9eccbe929a908eb7"
  },
  {
   "metadata": {
    "ExecuteTime": {
     "end_time": "2025-07-04T19:52:30.916808Z",
     "start_time": "2025-07-04T19:52:30.245186Z"
    }
   },
   "cell_type": "code",
   "source": [
    "def nonOptimizedFlightPriceAnalysis(flights: RDD[Flight]): Unit = {\n",
    "\n",
    "    // Job 1: Average Price per Route and classification\n",
    "    val routeAvg = flights.map(f => ((f.startingAirport, f.destinationAirport), f.totalFare))\n",
    "        .groupByKey()\n",
    "        .mapValues { fares =>\n",
    "            val (sum, count) = fares.foldLeft((0.0, 0)) { case ((s, c), fare) => (s + fare, c + 1) }\n",
    "            sum / count\n",
    "        }\n",
    "\n",
    "    val routeClass = routeAvg.map { case ((origin, dest), avgFare) =>\n",
    "            val category = if (avgFare < 200) \"Cheap\"\n",
    "            else if (avgFare <= 500) \"Moderate\"\n",
    "            else \"Expensive\"\n",
    "            ((origin, dest), category)\n",
    "        }\n",
    "\n",
    "    val joinedFlights = flights\n",
    "        .map(f => ((f.startingAirport, f.destinationAirport), f))\n",
    "        .join(routeClass)\n",
    "\n",
    "    val flightsByClass = joinedFlights.map { case (_, (flight, routeClass)) =>\n",
    "            (routeClass, flight.totalFare)\n",
    "        }\n",
    "        .groupByKey()\n",
    "        .mapValues { fares =>\n",
    "            val (sum, count) = fares.foldLeft((0.0, 0)) { case ((s, c), fare) => (s + fare, c + 1) }\n",
    "            (sum / count, count)\n",
    "        }\n",
    "\n",
    "    println(\"\\n--- Flight count and average price per route class: ---\")\n",
    "    flightsByClass.map { case (routeClass, (avgFare, totalCount)) =>\n",
    "            s\"Class: $routeClass | Avg Fare: $$${\"%.2f\".format(avgFare)} | Flights: $totalCount\"\n",
    "        }.foreach(println)\n",
    "\n",
    "    // Job 2: Average Price by Direct vs. Connecting Flights\n",
    "    val routeNonStopPairs = flights.map { flight =>\n",
    "            ((flight.startingAirport, flight.destinationAirport, flight.isNonStop), flight.totalFare)\n",
    "        }\n",
    "\n",
    "    val routeNonStopAverage = routeNonStopPairs\n",
    "        .groupByKey()\n",
    "        .mapValues { fares =>\n",
    "            val (sum, count) = fares.foldLeft((0.0, 0)) { case ((s, c), fare) => (s + fare, c + 1) }\n",
    "            sum / count\n",
    "        }\n",
    "\n",
    "    val routeGrouped = routeNonStopAverage.map { case ((origin, dest, isNonStop), avgFare) =>\n",
    "            ((origin, dest), (isNonStop, avgFare))\n",
    "        }\n",
    "        .groupByKey()\n",
    "\n",
    "    println(\"\\n--- Average flight price per route with Direct and Connecting prices: ---\")\n",
    "    routeGrouped.map { case ((origin, dest), faresIterable) =>\n",
    "            val fares = faresIterable.toMap\n",
    "            val directFare = fares.getOrElse(true, Double.NaN)\n",
    "            val connectingFare = fares.getOrElse(false, Double.NaN)\n",
    "            s\"$origin -> $dest | Direct: $$${\"%.2f\".format(directFare)} | Connecting: $$${\"%.2f\".format(connectingFare)}\"\n",
    "        }.foreach(println)\n",
    "}"
   ],
   "id": "accd5fa6040eafd7",
   "outputs": [
    {
     "data": {
      "text/plain": [
       "nonOptimizedFlightPriceAnalysis: (flights: org.apache.spark.rdd.RDD[Flight])Unit\r\n"
      ]
     },
     "execution_count": 6,
     "metadata": {},
     "output_type": "execute_result"
    }
   ],
   "execution_count": 6
  },
  {
   "metadata": {
    "ExecuteTime": {
     "end_time": "2025-07-04T19:55:17.958023Z",
     "start_time": "2025-07-04T19:54:49.186805Z"
    }
   },
   "cell_type": "code",
   "source": [
    "var startTimeNonOptimized = System.currentTimeMillis()\n",
    "\n",
    "nonOptimizedFlightPriceAnalysis(rddParsed)\n",
    "\n",
    "var endTimeNonOptimized = System.currentTimeMillis()\n",
    "var durationNonOptimized = endTimeNonOptimized - startTimeNonOptimized"
   ],
   "id": "b237239a528a2c40",
   "outputs": [
    {
     "name": "stdout",
     "output_type": "stream",
     "text": [
      "\n",
      "--- Flight count and average price per route class: ---\r\n",
      "Class: Cheap | Avg Fare: $176,02 | Flights: 143305\r\n",
      "Class: Expensive | Avg Fare: $577,63 | Flights: 201958\r\n",
      "Class: Moderate | Avg Fare: $328,91 | Flights: 2117951\r\n",
      "\n",
      "--- Average flight price per route with Direct and Connecting prices: ---\r\n",
      "IAD -> LGA | Direct: $178,13 | Connecting: $427,71\r\n",
      "LAX -> CLT | Direct: $453,48 | Connecting: $449,64\r\n",
      "LGA -> SFO | Direct: $NaN | Connecting: $477,02\r\n",
      "CLT -> SFO | Direct: $518,22 | Connecting: $508,04\r\n",
      "IAD -> EWR | Direct: $217,14 | Connecting: $347,08\r\n",
      "LAX -> DEN | Direct: $190,38 | Connecting: $287,37\r\n",
      "ORD -> JFK | Direct: $211,79 | Connecting: $467,43\r\n",
      "BOS -> IAD | Direct: $138,86 | Connecting: $317,00\r\n",
      "DTW -> ORD | Direct: $196,25 | Connecting: $268,04\r\n",
      "DFW -> ORD | Direct: $247,17 | Connecting: $296,25\r\n",
      "CLT -> PHL | Direct: $257,07 | Connecting: $289,65\r\n",
      "EWR -> LAX | Direct: $331,18 | Connecting: $364,27\r\n",
      "ORD -> PHL | Direct: $207,05 | Connecting: $282,56\r\n",
      "OAK -> JFK | Direct: $NaN | Connecting: $559,76\r\n",
      "ORD -> DEN | Direct: $245,91 | Connecting: $334,47\r\n",
      "EWR -> ORD | Direct: $200,38 | Connecting: $239,28\r\n",
      "EWR -> PHL | Direct: $250,36 | Connecting: $417,49\r\n",
      "SFO -> LGA | Direct: $NaN | Connecting: $491,10\r\n",
      "MIA -> EWR | Direct: $202,70 | Connecting: $323,18\r\n",
      "ATL -> PHL | Direct: $212,24 | Connecting: $260,22\r\n",
      "DTW -> DFW | Direct: $288,04 | Connecting: $324,60\r\n",
      "DEN -> DFW | Direct: $190,48 | Connecting: $258,34\r\n",
      "ORD -> SFO | Direct: $391,83 | Connecting: $378,43\r\n",
      "CLT -> DTW | Direct: $271,08 | Connecting: $298,38\r\n",
      "LGA -> DFW | Direct: $203,66 | Connecting: $232,10\r\n",
      "IAD -> JFK | Direct: $206,05 | Connecting: $414,46\r\n",
      "DEN -> ORD | Direct: $259,38 | Connecting: $351,12\r\n",
      "EWR -> DFW | Direct: $242,90 | Connecting: $301,64\r\n",
      "ORD -> ATL | Direct: $217,99 | Connecting: $228,12\r\n",
      "ATL -> LGA | Direct: $205,85 | Connecting: $198,48\r\n",
      "LGA -> BOS | Direct: $111,37 | Connecting: $209,34\r\n",
      "DTW -> BOS | Direct: $224,79 | Connecting: $236,12\r\n",
      "EWR -> SFO | Direct: $377,21 | Connecting: $419,21\r\n",
      "BOS -> DTW | Direct: $232,82 | Connecting: $241,99\r\n",
      "LGA -> MIA | Direct: $163,90 | Connecting: $252,81\r\n",
      "PHL -> LGA | Direct: $NaN | Connecting: $319,62\r\n",
      "SFO -> BOS | Direct: $444,36 | Connecting: $442,00\r\n",
      "LAX -> BOS | Direct: $483,68 | Connecting: $405,43\r\n",
      "DEN -> LGA | Direct: $261,81 | Connecting: $272,63\r\n",
      "JFK -> DFW | Direct: $224,92 | Connecting: $469,71\r\n",
      "MIA -> IAD | Direct: $306,05 | Connecting: $325,51\r\n",
      "SFO -> DFW | Direct: $305,07 | Connecting: $336,95\r\n",
      "IAD -> ORD | Direct: $228,91 | Connecting: $317,89\r\n",
      "MIA -> DTW | Direct: $208,83 | Connecting: $292,39\r\n",
      "DFW -> MIA | Direct: $238,26 | Connecting: $284,32\r\n",
      "DEN -> DTW | Direct: $298,90 | Connecting: $348,35\r\n",
      "EWR -> OAK | Direct: $167,59 | Connecting: $553,35\r\n",
      "JFK -> ATL | Direct: $205,80 | Connecting: $354,77\r\n",
      "DTW -> MIA | Direct: $177,56 | Connecting: $283,13\r\n",
      "LGA -> DTW | Direct: $205,85 | Connecting: $221,15\r\n",
      "ATL -> OAK | Direct: $NaN | Connecting: $539,76\r\n",
      "JFK -> DEN | Direct: $240,71 | Connecting: $538,59\r\n",
      "ATL -> IAD | Direct: $192,72 | Connecting: $296,82\r\n",
      "SFO -> CLT | Direct: $568,13 | Connecting: $515,32\r\n",
      "BOS -> EWR | Direct: $128,78 | Connecting: $254,83\r\n",
      "SFO -> MIA | Direct: $451,78 | Connecting: $477,71\r\n",
      "CLT -> BOS | Direct: $224,83 | Connecting: $248,68\r\n",
      "ORD -> OAK | Direct: $184,16 | Connecting: $474,58\r\n",
      "ORD -> LGA | Direct: $177,57 | Connecting: $164,47\r\n",
      "IAD -> ATL | Direct: $190,54 | Connecting: $265,41\r\n",
      "SFO -> LAX | Direct: $152,73 | Connecting: $278,24\r\n",
      "DEN -> PHL | Direct: $340,24 | Connecting: $369,84\r\n",
      "JFK -> SFO | Direct: $411,36 | Connecting: $393,67\r\n",
      "JFK -> ORD | Direct: $203,07 | Connecting: $475,50\r\n",
      "DFW -> PHL | Direct: $313,14 | Connecting: $325,11\r\n",
      "PHL -> SFO | Direct: $502,76 | Connecting: $494,01\r\n",
      "BOS -> JFK | Direct: $154,87 | Connecting: $411,46\r\n",
      "DEN -> EWR | Direct: $330,06 | Connecting: $344,21\r\n",
      "LGA -> OAK | Direct: $NaN | Connecting: $661,42\r\n",
      "DTW -> EWR | Direct: $212,46 | Connecting: $239,88\r\n",
      "OAK -> DFW | Direct: $NaN | Connecting: $417,65\r\n",
      "DFW -> LAX | Direct: $241,25 | Connecting: $283,00\r\n",
      "OAK -> DEN | Direct: $109,50 | Connecting: $417,42\r\n",
      "EWR -> DTW | Direct: $220,88 | Connecting: $248,76\r\n",
      "OAK -> LGA | Direct: $NaN | Connecting: $653,22\r\n",
      "ORD -> LAX | Direct: $283,46 | Connecting: $341,15\r\n",
      "IAD -> SFO | Direct: $465,58 | Connecting: $490,02\r\n",
      "SFO -> OAK | Direct: $NaN | Connecting: $379,51\r\n",
      "BOS -> LAX | Direct: $436,63 | Connecting: $379,73\r\n",
      "LAX -> LGA | Direct: $374,19 | Connecting: $398,35\r\n",
      "DFW -> DTW | Direct: $284,33 | Connecting: $317,08\r\n",
      "CLT -> EWR | Direct: $218,08 | Connecting: $266,02\r\n",
      "LAX -> EWR | Direct: $365,51 | Connecting: $401,75\r\n",
      "ATL -> JFK | Direct: $203,76 | Connecting: $353,47\r\n",
      "IAD -> MIA | Direct: $208,87 | Connecting: $303,04\r\n",
      "LGA -> CLT | Direct: $209,42 | Connecting: $206,14\r\n",
      "SFO -> EWR | Direct: $418,13 | Connecting: $449,20\r\n",
      "ORD -> DTW | Direct: $199,43 | Connecting: $284,68\r\n",
      "LAX -> DFW | Direct: $253,54 | Connecting: $283,50\r\n",
      "EWR -> ATL | Direct: $202,62 | Connecting: $214,62\r\n",
      "ORD -> EWR | Direct: $200,92 | Connecting: $240,67\r\n",
      "ATL -> DEN | Direct: $290,32 | Connecting: $317,33\r\n",
      "OAK -> ORD | Direct: $205,34 | Connecting: $491,56\r\n",
      "LAX -> DTW | Direct: $407,71 | Connecting: $442,72\r\n",
      "PHL -> LAX | Direct: $425,70 | Connecting: $404,50\r\n",
      "BOS -> CLT | Direct: $218,78 | Connecting: $235,55\r\n",
      "CLT -> OAK | Direct: $NaN | Connecting: $625,56\r\n",
      "MIA -> BOS | Direct: $209,87 | Connecting: $227,41\r\n",
      "DTW -> OAK | Direct: $433,60 | Connecting: $551,08\r\n",
      "EWR -> DEN | Direct: $301,09 | Connecting: $356,05\r\n",
      "LAX -> ATL | Direct: $429,71 | Connecting: $392,41\r\n",
      "LGA -> DEN | Direct: $247,96 | Connecting: $281,93\r\n",
      "PHL -> BOS | Direct: $133,22 | Connecting: $298,92\r\n",
      "DEN -> MIA | Direct: $233,37 | Connecting: $375,37\r\n",
      "IAD -> DTW | Direct: $190,39 | Connecting: $269,26\r\n",
      "MIA -> LAX | Direct: $288,00 | Connecting: $353,71\r\n",
      "DFW -> CLT | Direct: $326,80 | Connecting: $316,18\r\n",
      "DFW -> LGA | Direct: $200,48 | Connecting: $236,54\r\n",
      "LAX -> SFO | Direct: $154,93 | Connecting: $285,75\r\n",
      "ORD -> CLT | Direct: $258,58 | Connecting: $281,23\r\n",
      "LAX -> PHL | Direct: $444,97 | Connecting: $432,60\r\n",
      "BOS -> DFW | Direct: $322,34 | Connecting: $296,45\r\n",
      "MIA -> CLT | Direct: $326,22 | Connecting: $303,38\r\n",
      "PHL -> OAK | Direct: $174,19 | Connecting: $641,92\r\n",
      "ORD -> BOS | Direct: $216,53 | Connecting: $188,58\r\n",
      "MIA -> ORD | Direct: $222,35 | Connecting: $256,20\r\n",
      "LGA -> ATL | Direct: $199,43 | Connecting: $195,72\r\n",
      "DFW -> EWR | Direct: $251,87 | Connecting: $298,55\r\n",
      "DEN -> CLT | Direct: $363,26 | Connecting: $351,91\r\n",
      "MIA -> JFK | Direct: $173,43 | Connecting: $518,55\r\n",
      "BOS -> LGA | Direct: $109,14 | Connecting: $206,62\r\n",
      "OAK -> EWR | Direct: $171,36 | Connecting: $555,07\r\n",
      "DFW -> ATL | Direct: $215,10 | Connecting: $259,30\r\n",
      "JFK -> BOS | Direct: $157,88 | Connecting: $441,38\r\n",
      "DFW -> DEN | Direct: $192,50 | Connecting: $275,53\r\n",
      "OAK -> SFO | Direct: $NaN | Connecting: $437,31\r\n",
      "LGA -> ORD | Direct: $175,95 | Connecting: $165,48\r\n",
      "SFO -> PHL | Direct: $455,46 | Connecting: $511,49\r\n",
      "ATL -> SFO | Direct: $440,44 | Connecting: $458,41\r\n",
      "MIA -> PHL | Direct: $191,88 | Connecting: $298,02\r\n",
      "JFK -> IAD | Direct: $183,52 | Connecting: $427,88\r\n",
      "ATL -> DFW | Direct: $216,72 | Connecting: $257,74\r\n",
      "MIA -> DEN | Direct: $238,00 | Connecting: $366,97\r\n",
      "ORD -> MIA | Direct: $223,37 | Connecting: $238,68\r\n",
      "ATL -> DTW | Direct: $237,40 | Connecting: $309,99\r\n",
      "LAX -> OAK | Direct: $129,66 | Connecting: $348,84\r\n",
      "EWR -> IAD | Direct: $240,22 | Connecting: $347,59\r\n",
      "CLT -> DFW | Direct: $317,08 | Connecting: $321,96\r\n",
      "OAK -> ATL | Direct: $NaN | Connecting: $543,19\r\n",
      "IAD -> DFW | Direct: $295,26 | Connecting: $319,04\r\n",
      "LGA -> PHL | Direct: $84,60 | Connecting: $330,20\r\n",
      "PHL -> DEN | Direct: $320,24 | Connecting: $379,90\r\n",
      "BOS -> OAK | Direct: $NaN | Connecting: $618,64\r\n",
      "PHL -> ORD | Direct: $205,85 | Connecting: $272,81\r\n",
      "ATL -> CLT | Direct: $245,60 | Connecting: $362,77\r\n",
      "PHL -> MIA | Direct: $190,92 | Connecting: $268,44\r\n",
      "DTW -> DEN | Direct: $301,49 | Connecting: $351,23\r\n",
      "PHL -> EWR | Direct: $273,29 | Connecting: $402,35\r\n",
      "MIA -> LGA | Direct: $169,34 | Connecting: $266,18\r\n",
      "IAD -> PHL | Direct: $NaN | Connecting: $350,90\r\n",
      "PHL -> DTW | Direct: $273,89 | Connecting: $311,57\r\n",
      "LAX -> MIA | Direct: $325,38 | Connecting: $394,03\r\n",
      "EWR -> CLT | Direct: $218,24 | Connecting: $263,58\r\n",
      "ATL -> LAX | Direct: $404,49 | Connecting: $359,40\r\n",
      "DEN -> LAX | Direct: $186,19 | Connecting: $261,15\r\n",
      "MIA -> ATL | Direct: $187,19 | Connecting: $319,74\r\n",
      "ATL -> ORD | Direct: $227,92 | Connecting: $229,97\r\n",
      "DFW -> SFO | Direct: $291,34 | Connecting: $316,51\r\n",
      "EWR -> MIA | Direct: $193,20 | Connecting: $255,55\r\n",
      "DTW -> SFO | Direct: $495,53 | Connecting: $493,52\r\n",
      "DTW -> CLT | Direct: $267,29 | Connecting: $299,07\r\n",
      "OAK -> MIA | Direct: $NaN | Connecting: $667,62\r\n",
      "CLT -> DEN | Direct: $343,23 | Connecting: $363,20\r\n",
      "CLT -> LGA | Direct: $207,43 | Connecting: $199,48\r\n",
      "SFO -> ORD | Direct: $421,02 | Connecting: $417,76\r\n",
      "DTW -> LGA | Direct: $195,03 | Connecting: $204,94\r\n",
      "OAK -> DTW | Direct: $458,32 | Connecting: $572,59\r\n",
      "DEN -> OAK | Direct: $112,06 | Connecting: $383,34\r\n",
      "MIA -> OAK | Direct: $NaN | Connecting: $635,21\r\n",
      "OAK -> PHL | Direct: $182,22 | Connecting: $632,24\r\n",
      "CLT -> ATL | Direct: $243,79 | Connecting: $358,67\r\n",
      "IAD -> OAK | Direct: $NaN | Connecting: $650,62\r\n",
      "BOS -> ATL | Direct: $289,90 | Connecting: $273,68\r\n",
      "BOS -> DEN | Direct: $344,89 | Connecting: $342,04\r\n",
      "BOS -> ORD | Direct: $213,46 | Connecting: $183,84\r\n",
      "JFK -> DTW | Direct: $236,12 | Connecting: $374,72\r\n",
      "ORD -> IAD | Direct: $223,75 | Connecting: $310,33\r\n",
      "OAK -> BOS | Direct: $NaN | Connecting: $639,95\r\n",
      "PHL -> ATL | Direct: $213,68 | Connecting: $247,83\r\n",
      "DTW -> JFK | Direct: $233,33 | Connecting: $437,04\r\n",
      "CLT -> LAX | Direct: $429,03 | Connecting: $427,38\r\n",
      "DEN -> SFO | Direct: $207,37 | Connecting: $314,27\r\n",
      "LGA -> IAD | Direct: $176,40 | Connecting: $428,96\r\n",
      "OAK -> IAD | Direct: $NaN | Connecting: $615,08\r\n",
      "JFK -> PHL | Direct: $NaN | Connecting: $409,99\r\n",
      "DFW -> JFK | Direct: $215,90 | Connecting: $389,91\r\n",
      "DTW -> PHL | Direct: $271,72 | Connecting: $319,41\r\n",
      "MIA -> SFO | Direct: $432,84 | Connecting: $454,51\r\n",
      "PHL -> IAD | Direct: $NaN | Connecting: $356,40\r\n",
      "OAK -> LAX | Direct: $106,53 | Connecting: $356,92\r\n",
      "SFO -> DTW | Direct: $508,98 | Connecting: $534,48\r\n",
      "PHL -> JFK | Direct: $NaN | Connecting: $365,45\r\n",
      "EWR -> BOS | Direct: $127,45 | Connecting: $251,91\r\n",
      "OAK -> CLT | Direct: $73,59 | Connecting: $648,37\r\n",
      "DFW -> IAD | Direct: $273,90 | Connecting: $303,08\r\n",
      "DTW -> ATL | Direct: $242,33 | Connecting: $311,97\r\n",
      "BOS -> MIA | Direct: $194,78 | Connecting: $211,69\r\n",
      "CLT -> IAD | Direct: $174,22 | Connecting: $231,43\r\n",
      "LAX -> JFK | Direct: $431,09 | Connecting: $418,81\r\n",
      "DEN -> IAD | Direct: $342,93 | Connecting: $367,98\r\n",
      "ATL -> EWR | Direct: $213,82 | Connecting: $208,86\r\n",
      "DEN -> JFK | Direct: $242,74 | Connecting: $530,23\r\n",
      "SFO -> IAD | Direct: $494,64 | Connecting: $485,24\r\n",
      "JFK -> LAX | Direct: $425,09 | Connecting: $392,06\r\n",
      "DEN -> ATL | Direct: $301,98 | Connecting: $322,10\r\n",
      "IAD -> LAX | Direct: $401,56 | Connecting: $420,44\r\n",
      "ATL -> MIA | Direct: $178,95 | Connecting: $311,63\r\n",
      "DFW -> OAK | Direct: $NaN | Connecting: $445,92\r\n",
      "IAD -> DEN | Direct: $335,58 | Connecting: $389,43\r\n",
      "JFK -> CLT | Direct: $226,17 | Connecting: $326,49\r\n",
      "SFO -> JFK | Direct: $421,06 | Connecting: $429,68\r\n",
      "JFK -> OAK | Direct: $NaN | Connecting: $565,78\r\n",
      "CLT -> MIA | Direct: $310,76 | Connecting: $281,51\r\n",
      "BOS -> SFO | Direct: $419,86 | Connecting: $425,09\r\n",
      "ORD -> DFW | Direct: $238,76 | Connecting: $287,64\r\n",
      "SFO -> DEN | Direct: $234,90 | Connecting: $346,22\r\n",
      "IAD -> BOS | Direct: $150,47 | Connecting: $356,96\r\n",
      "JFK -> MIA | Direct: $163,93 | Connecting: $477,47\r\n",
      "LGA -> LAX | Direct: $247,69 | Connecting: $378,89\r\n",
      "SFO -> ATL | Direct: $463,23 | Connecting: $472,12\r\n",
      "PHL -> DFW | Direct: $309,18 | Connecting: $321,94\r\n",
      "LAX -> IAD | Direct: $423,79 | Connecting: $442,56\r\n",
      "LAX -> ORD | Direct: $305,45 | Connecting: $356,05\r\n",
      "MIA -> DFW | Direct: $246,20 | Connecting: $286,55\r\n",
      "CLT -> JFK | Direct: $216,04 | Connecting: $291,47\r\n",
      "DTW -> IAD | Direct: $173,29 | Connecting: $222,63\r\n",
      "DTW -> LAX | Direct: $378,49 | Connecting: $416,18\r\n",
      "ATL -> BOS | Direct: $293,72 | Connecting: $271,16\r\n",
      "PHL -> CLT | Direct: $256,98 | Connecting: $278,75\r\n",
      "DFW -> BOS | Direct: $329,16 | Connecting: $298,24\r\n",
      "CLT -> ORD | Direct: $256,99 | Connecting: $287,37\r\n",
      "DEN -> BOS | Direct: $385,63 | Connecting: $344,89\r\n",
      "BOS -> PHL | Direct: $130,71 | Connecting: $277,83\r\n",
      "IAD -> CLT | Direct: $178,27 | Connecting: $268,70\r\n"
     ]
    },
    {
     "data": {
      "text/plain": [
       "startTimeNonOptimized: Long = 1751658889333\r\n",
       "endTimeNonOptimized: Long = 1751658917951\r\n",
       "durationNonOptimized: Long = 28618\r\n"
      ]
     },
     "execution_count": 16,
     "metadata": {},
     "output_type": "execute_result"
    }
   ],
   "execution_count": 16
  },
  {
   "metadata": {},
   "cell_type": "markdown",
   "source": "### Optimized version\n",
   "id": "cd13d9d9f4f8f660"
  },
  {
   "metadata": {
    "ExecuteTime": {
     "end_time": "2025-07-04T19:53:06.316993Z",
     "start_time": "2025-07-04T19:53:05.795820Z"
    }
   },
   "cell_type": "code",
   "source": [
    "def optimizedFlightPriceAnalysis(flights: RDD[Flight]): Unit = {\n",
    "\n",
    "    val routeAggregates = flights\n",
    "        .map { flight =>\n",
    "            val routeKey = (flight.startingAirport, flight.destinationAirport)\n",
    "            val fare = flight.totalFare\n",
    "            val isDirect = flight.isNonStop\n",
    "            ((routeKey), (fare, 1, Map(isDirect -> (fare, 1))))\n",
    "        }\n",
    "        .reduceByKey { case ((fareSum1, count1, map1), (fareSum2, count2, map2)) =>\n",
    "            val mergedMap = map1 ++ map2.map { case (k, v) =>\n",
    "                k -> (v._1 + map1.getOrElse(k, (0.0, 0))._1, v._2 + map1.getOrElse(k, (0.0, 0))._2)\n",
    "            }\n",
    "            (fareSum1 + fareSum2, count1 + count2, mergedMap)\n",
    "        }\n",
    "        .cache()\n",
    "\n",
    "    // Extract results per route (Job 2) + classify (Job 1)\n",
    "    val perRouteResults = routeAggregates.map { case ((origin, dest), (totalFare, totalCount, directMap)) =>\n",
    "            val routeAvg = totalFare / totalCount\n",
    "            val routeClass = if (routeAvg < 200) \"Cheap\"\n",
    "            else if (routeAvg <= 500) \"Moderate\"\n",
    "            else \"Expensive\"\n",
    "\n",
    "            val directAvg = directMap.get(true).map { case (sum, cnt) => sum / cnt }.getOrElse(Double.NaN)\n",
    "            val connectingAvg = directMap.get(false).map { case (sum, cnt) => sum / cnt }.getOrElse(Double.NaN)\n",
    "\n",
    "            ((origin, dest), routeClass, routeAvg, directAvg, connectingAvg, totalCount)\n",
    "        }\n",
    "\n",
    "    // Prepare Job 1 aggregates (class averages and counts)\n",
    "    val classAggregates = perRouteResults\n",
    "        .map { case (_, routeClass, routeAvg, _, _, totalCount) =>\n",
    "            (routeClass, (routeAvg * totalCount, totalCount))\n",
    "        }\n",
    "        .reduceByKey { case ((sum1, count1), (sum2, count2)) =>\n",
    "            (sum1 + sum2, count1 + count2)\n",
    "        }\n",
    "        .mapValues { case (totalSum, totalCount) =>\n",
    "            (totalSum / totalCount, totalCount)\n",
    "        }\n",
    "\n",
    "    println(\"\\n--- Flight count and average price per route class: ---\")\n",
    "    classAggregates.map { case (routeClass, (avgFare, count)) =>\n",
    "            s\"Class: $routeClass | Avg Fare: $$${\"%.2f\".format(avgFare)} | Flights: $count\"\n",
    "        }.foreach(println)\n",
    "\n",
    "    println(\"\\n--- Average flight price per route with Direct and Connecting prices: ---\")\n",
    "    perRouteResults.map { case ((origin, dest), _, _, directAvg, connectingAvg, _) =>\n",
    "            s\"$origin -> $dest | Direct: $$${\"%.2f\".format(directAvg)} | Connecting: $$${\"%.2f\".format(connectingAvg)}\"\n",
    "        }.foreach(println)\n",
    "\n",
    "    routeAggregates.unpersist() // Clean up cached RDD\n",
    "}"
   ],
   "id": "a2eec8b541e17a29",
   "outputs": [
    {
     "data": {
      "text/plain": [
       "optimizedFlightPriceAnalysis: (flights: org.apache.spark.rdd.RDD[Flight])Unit\r\n"
      ]
     },
     "execution_count": 8,
     "metadata": {},
     "output_type": "execute_result"
    }
   ],
   "execution_count": 8
  },
  {
   "metadata": {
    "ExecuteTime": {
     "end_time": "2025-07-04T19:53:11.943450Z",
     "start_time": "2025-07-04T19:53:06.383880Z"
    }
   },
   "cell_type": "code",
   "source": [
    "var startTimeOptimized = System.currentTimeMillis()\n",
    "\n",
    "optimizedFlightPriceAnalysis(rddParsed)\n",
    "\n",
    "var endTimeOptimized = System.currentTimeMillis()\n",
    "var durationOptimized = endTimeOptimized - startTimeOptimized"
   ],
   "id": "7f3cd38bdac64acc",
   "outputs": [
    {
     "name": "stdout",
     "output_type": "stream",
     "text": [
      "\n",
      "--- Flight count and average price per route class: ---\r\n",
      "Class: Cheap | Avg Fare: $176,02 | Flights: 143305\r\n",
      "Class: Expensive | Avg Fare: $577,63 | Flights: 201958\r\n",
      "Class: Moderate | Avg Fare: $328,91 | Flights: 2117951\r\n",
      "\n",
      "--- Average flight price per route with Direct and Connecting prices: ---\r\n",
      "SFO -> BOS | Direct: $444,36 | Connecting: $442,00\r\n",
      "EWR -> ORD | Direct: $200,38 | Connecting: $239,28\r\n",
      "DEN -> LGA | Direct: $261,81 | Connecting: $272,63\r\n",
      "MIA -> EWR | Direct: $202,70 | Connecting: $323,18\r\n",
      "DEN -> ORD | Direct: $259,38 | Connecting: $351,12\r\n",
      "DFW -> ORD | Direct: $247,17 | Connecting: $296,25\r\n",
      "ORD -> ATL | Direct: $217,99 | Connecting: $228,12\r\n",
      "EWR -> LAX | Direct: $331,18 | Connecting: $364,27\r\n",
      "ATL -> LGA | Direct: $205,85 | Connecting: $198,48\r\n",
      "JFK -> DFW | Direct: $224,92 | Connecting: $469,71\r\n",
      "SFO -> CLT | Direct: $568,13 | Connecting: $515,32\r\n",
      "SFO -> DFW | Direct: $305,07 | Connecting: $336,95\r\n",
      "BOS -> EWR | Direct: $128,78 | Connecting: $254,83\r\n",
      "IAD -> ORD | Direct: $228,91 | Connecting: $317,89\r\n",
      "DFW -> MIA | Direct: $238,26 | Connecting: $284,32\r\n",
      "MIA -> DTW | Direct: $208,83 | Connecting: $292,39\r\n",
      "DEN -> DTW | Direct: $298,90 | Connecting: $348,35\r\n",
      "IAD -> LGA | Direct: $178,13 | Connecting: $427,71\r\n",
      "LAX -> CLT | Direct: $453,48 | Connecting: $449,64\r\n",
      "LGA -> SFO | Direct: $NaN | Connecting: $477,02\r\n",
      "CLT -> SFO | Direct: $518,22 | Connecting: $508,04\r\n",
      "IAD -> EWR | Direct: $217,14 | Connecting: $347,08\r\n",
      "LAX -> DEN | Direct: $190,38 | Connecting: $287,37\r\n",
      "SFO -> MIA | Direct: $451,78 | Connecting: $477,71\r\n",
      "ORD -> JFK | Direct: $211,79 | Connecting: $467,43\r\n",
      "CLT -> BOS | Direct: $224,83 | Connecting: $248,68\r\n",
      "ORD -> OAK | Direct: $184,16 | Connecting: $474,58\r\n",
      "ORD -> LGA | Direct: $177,57 | Connecting: $164,47\r\n",
      "IAD -> ATL | Direct: $190,54 | Connecting: $265,41\r\n",
      "SFO -> LAX | Direct: $152,73 | Connecting: $278,24\r\n",
      "DEN -> PHL | Direct: $340,24 | Connecting: $369,84\r\n",
      "JFK -> SFO | Direct: $411,36 | Connecting: $393,67\r\n",
      "BOS -> IAD | Direct: $138,86 | Connecting: $317,00\r\n",
      "DTW -> ORD | Direct: $196,25 | Connecting: $268,04\r\n",
      "ATL -> PHL | Direct: $212,24 | Connecting: $260,22\r\n",
      "DTW -> DFW | Direct: $288,04 | Connecting: $324,60\r\n",
      "DEN -> DFW | Direct: $190,48 | Connecting: $258,34\r\n",
      "DFW -> CLT | Direct: $326,80 | Connecting: $316,18\r\n",
      "DFW -> LGA | Direct: $200,48 | Connecting: $236,54\r\n",
      "LAX -> SFO | Direct: $154,93 | Connecting: $285,75\r\n",
      "ORD -> CLT | Direct: $258,58 | Connecting: $281,23\r\n",
      "MIA -> CLT | Direct: $326,22 | Connecting: $303,38\r\n",
      "ORD -> SFO | Direct: $391,83 | Connecting: $378,43\r\n",
      "CLT -> PHL | Direct: $257,07 | Connecting: $289,65\r\n",
      "ORD -> PHL | Direct: $207,05 | Connecting: $282,56\r\n",
      "ORD -> DEN | Direct: $245,91 | Connecting: $334,47\r\n",
      "LGA -> DFW | Direct: $203,66 | Connecting: $232,10\r\n",
      "IAD -> JFK | Direct: $206,05 | Connecting: $414,46\r\n",
      "EWR -> DFW | Direct: $242,90 | Connecting: $301,64\r\n",
      "LGA -> BOS | Direct: $111,37 | Connecting: $209,34\r\n",
      "EWR -> SFO | Direct: $377,21 | Connecting: $419,21\r\n",
      "ORD -> BOS | Direct: $216,53 | Connecting: $188,58\r\n",
      "LGA -> ATL | Direct: $199,43 | Connecting: $195,72\r\n",
      "DFW -> EWR | Direct: $251,87 | Connecting: $298,55\r\n",
      "PHL -> LGA | Direct: $NaN | Connecting: $319,62\r\n",
      "LAX -> BOS | Direct: $483,68 | Connecting: $405,43\r\n",
      "MIA -> IAD | Direct: $306,05 | Connecting: $325,51\r\n",
      "EWR -> OAK | Direct: $167,59 | Connecting: $553,35\r\n",
      "JFK -> ATL | Direct: $205,80 | Connecting: $354,77\r\n",
      "DTW -> MIA | Direct: $177,56 | Connecting: $283,13\r\n",
      "LGA -> DTW | Direct: $205,85 | Connecting: $221,15\r\n",
      "ATL -> OAK | Direct: $NaN | Connecting: $539,76\r\n",
      "BOS -> JFK | Direct: $154,87 | Connecting: $411,46\r\n",
      "JFK -> DEN | Direct: $240,71 | Connecting: $538,59\r\n",
      "ORD -> LAX | Direct: $283,46 | Connecting: $341,15\r\n",
      "SFO -> PHL | Direct: $455,46 | Connecting: $511,49\r\n",
      "LAX -> OAK | Direct: $129,66 | Connecting: $348,84\r\n",
      "ATL -> IAD | Direct: $192,72 | Connecting: $296,82\r\n",
      "EWR -> IAD | Direct: $240,22 | Connecting: $347,59\r\n",
      "CLT -> DFW | Direct: $317,08 | Connecting: $321,96\r\n",
      "OAK -> ATL | Direct: $NaN | Connecting: $543,19\r\n",
      "IAD -> DFW | Direct: $295,26 | Connecting: $319,04\r\n",
      "LGA -> PHL | Direct: $84,60 | Connecting: $330,20\r\n",
      "PHL -> DEN | Direct: $320,24 | Connecting: $379,90\r\n",
      "BOS -> CLT | Direct: $218,78 | Connecting: $235,55\r\n",
      "CLT -> OAK | Direct: $NaN | Connecting: $625,56\r\n",
      "MIA -> BOS | Direct: $209,87 | Connecting: $227,41\r\n",
      "DTW -> OAK | Direct: $433,60 | Connecting: $551,08\r\n",
      "EWR -> DEN | Direct: $301,09 | Connecting: $356,05\r\n",
      "OAK -> JFK | Direct: $NaN | Connecting: $559,76\r\n",
      "EWR -> PHL | Direct: $250,36 | Connecting: $417,49\r\n",
      "SFO -> LGA | Direct: $NaN | Connecting: $491,10\r\n",
      "CLT -> DTW | Direct: $271,08 | Connecting: $298,38\r\n",
      "DEN -> EWR | Direct: $330,06 | Connecting: $344,21\r\n",
      "LGA -> OAK | Direct: $NaN | Connecting: $661,42\r\n",
      "DTW -> EWR | Direct: $212,46 | Connecting: $239,88\r\n",
      "OAK -> DFW | Direct: $NaN | Connecting: $417,65\r\n",
      "DFW -> LAX | Direct: $241,25 | Connecting: $283,00\r\n",
      "OAK -> DEN | Direct: $109,50 | Connecting: $417,42\r\n",
      "EWR -> DTW | Direct: $220,88 | Connecting: $248,76\r\n",
      "OAK -> LGA | Direct: $NaN | Connecting: $653,22\r\n",
      "IAD -> SFO | Direct: $465,58 | Connecting: $490,02\r\n",
      "SFO -> OAK | Direct: $NaN | Connecting: $379,51\r\n",
      "BOS -> LAX | Direct: $436,63 | Connecting: $379,73\r\n",
      "LAX -> LGA | Direct: $374,19 | Connecting: $398,35\r\n",
      "DFW -> DTW | Direct: $284,33 | Connecting: $317,08\r\n",
      "CLT -> EWR | Direct: $218,08 | Connecting: $266,02\r\n",
      "LAX -> EWR | Direct: $365,51 | Connecting: $401,75\r\n",
      "ATL -> JFK | Direct: $203,76 | Connecting: $353,47\r\n",
      "IAD -> MIA | Direct: $208,87 | Connecting: $303,04\r\n",
      "LGA -> CLT | Direct: $209,42 | Connecting: $206,14\r\n",
      "SFO -> EWR | Direct: $418,13 | Connecting: $449,20\r\n",
      "ORD -> DTW | Direct: $199,43 | Connecting: $284,68\r\n",
      "LAX -> DFW | Direct: $253,54 | Connecting: $283,50\r\n",
      "EWR -> ATL | Direct: $202,62 | Connecting: $214,62\r\n",
      "ORD -> EWR | Direct: $200,92 | Connecting: $240,67\r\n",
      "ATL -> DEN | Direct: $290,32 | Connecting: $317,33\r\n",
      "OAK -> ORD | Direct: $205,34 | Connecting: $491,56\r\n",
      "LAX -> DTW | Direct: $407,71 | Connecting: $442,72\r\n",
      "PHL -> LAX | Direct: $425,70 | Connecting: $404,50\r\n",
      "DTW -> BOS | Direct: $224,79 | Connecting: $236,12\r\n",
      "BOS -> DTW | Direct: $232,82 | Connecting: $241,99\r\n",
      "LGA -> MIA | Direct: $163,90 | Connecting: $252,81\r\n",
      "JFK -> ORD | Direct: $203,07 | Connecting: $475,50\r\n",
      "BOS -> OAK | Direct: $NaN | Connecting: $618,64\r\n",
      "DFW -> PHL | Direct: $313,14 | Connecting: $325,11\r\n",
      "PHL -> ORD | Direct: $205,85 | Connecting: $272,81\r\n",
      "PHL -> SFO | Direct: $502,76 | Connecting: $494,01\r\n",
      "ATL -> CLT | Direct: $245,60 | Connecting: $362,77\r\n",
      "PHL -> MIA | Direct: $190,92 | Connecting: $268,44\r\n",
      "DTW -> DEN | Direct: $301,49 | Connecting: $351,23\r\n",
      "PHL -> EWR | Direct: $273,29 | Connecting: $402,35\r\n",
      "MIA -> LGA | Direct: $169,34 | Connecting: $266,18\r\n",
      "LAX -> ATL | Direct: $429,71 | Connecting: $392,41\r\n",
      "LGA -> DEN | Direct: $247,96 | Connecting: $281,93\r\n",
      "PHL -> BOS | Direct: $133,22 | Connecting: $298,92\r\n",
      "DEN -> MIA | Direct: $233,37 | Connecting: $375,37\r\n",
      "IAD -> DTW | Direct: $190,39 | Connecting: $269,26\r\n",
      "MIA -> LAX | Direct: $288,00 | Connecting: $353,71\r\n",
      "MIA -> SFO | Direct: $432,84 | Connecting: $454,51\r\n",
      "OAK -> LAX | Direct: $106,53 | Connecting: $356,92\r\n",
      "PHL -> JFK | Direct: $NaN | Connecting: $365,45\r\n",
      "EWR -> BOS | Direct: $127,45 | Connecting: $251,91\r\n",
      "DFW -> IAD | Direct: $273,90 | Connecting: $303,08\r\n",
      "DTW -> ATL | Direct: $242,33 | Connecting: $311,97\r\n",
      "DEN -> CLT | Direct: $363,26 | Connecting: $351,91\r\n",
      "MIA -> JFK | Direct: $173,43 | Connecting: $518,55\r\n",
      "BOS -> LGA | Direct: $109,14 | Connecting: $206,62\r\n",
      "OAK -> EWR | Direct: $171,36 | Connecting: $555,07\r\n",
      "DFW -> ATL | Direct: $215,10 | Connecting: $259,30\r\n",
      "JFK -> BOS | Direct: $157,88 | Connecting: $441,38\r\n",
      "DFW -> DEN | Direct: $192,50 | Connecting: $275,53\r\n",
      "OAK -> SFO | Direct: $NaN | Connecting: $437,31\r\n",
      "LGA -> ORD | Direct: $175,95 | Connecting: $165,48\r\n",
      "SFO -> DEN | Direct: $234,90 | Connecting: $346,22\r\n",
      "IAD -> BOS | Direct: $150,47 | Connecting: $356,96\r\n",
      "JFK -> MIA | Direct: $163,93 | Connecting: $477,47\r\n",
      "LGA -> LAX | Direct: $247,69 | Connecting: $378,89\r\n",
      "SFO -> ATL | Direct: $463,23 | Connecting: $472,12\r\n",
      "PHL -> DFW | Direct: $309,18 | Connecting: $321,94\r\n",
      "LAX -> IAD | Direct: $423,79 | Connecting: $442,56\r\n",
      "LAX -> ORD | Direct: $305,45 | Connecting: $356,05\r\n",
      "MIA -> DFW | Direct: $246,20 | Connecting: $286,55\r\n",
      "CLT -> JFK | Direct: $216,04 | Connecting: $291,47\r\n",
      "DTW -> IAD | Direct: $173,29 | Connecting: $222,63\r\n",
      "LAX -> PHL | Direct: $444,97 | Connecting: $432,60\r\n",
      "BOS -> DFW | Direct: $322,34 | Connecting: $296,45\r\n",
      "PHL -> OAK | Direct: $174,19 | Connecting: $641,92\r\n",
      "MIA -> ORD | Direct: $222,35 | Connecting: $256,20\r\n",
      "JFK -> DTW | Direct: $236,12 | Connecting: $374,72\r\n",
      "PHL -> ATL | Direct: $213,68 | Connecting: $247,83\r\n",
      "DEN -> SFO | Direct: $207,37 | Connecting: $314,27\r\n",
      "LGA -> IAD | Direct: $176,40 | Connecting: $428,96\r\n",
      "OAK -> IAD | Direct: $NaN | Connecting: $615,08\r\n",
      "DFW -> JFK | Direct: $215,90 | Connecting: $389,91\r\n",
      "JFK -> PHL | Direct: $NaN | Connecting: $409,99\r\n",
      "DTW -> PHL | Direct: $271,72 | Connecting: $319,41\r\n",
      "PHL -> IAD | Direct: $NaN | Connecting: $356,40\r\n",
      "SFO -> DTW | Direct: $508,98 | Connecting: $534,48\r\n",
      "OAK -> CLT | Direct: $73,59 | Connecting: $648,37\r\n",
      "BOS -> MIA | Direct: $194,78 | Connecting: $211,69\r\n",
      "ATL -> SFO | Direct: $440,44 | Connecting: $458,41\r\n",
      "MIA -> PHL | Direct: $191,88 | Connecting: $298,02\r\n",
      "JFK -> IAD | Direct: $183,52 | Connecting: $427,88\r\n",
      "ATL -> DFW | Direct: $216,72 | Connecting: $257,74\r\n",
      "MIA -> DEN | Direct: $238,00 | Connecting: $366,97\r\n",
      "ORD -> MIA | Direct: $223,37 | Connecting: $238,68\r\n",
      "ATL -> DTW | Direct: $237,40 | Connecting: $309,99\r\n",
      "IAD -> PHL | Direct: $NaN | Connecting: $350,90\r\n",
      "PHL -> DTW | Direct: $273,89 | Connecting: $311,57\r\n",
      "LAX -> MIA | Direct: $325,38 | Connecting: $394,03\r\n",
      "EWR -> CLT | Direct: $218,24 | Connecting: $263,58\r\n",
      "ATL -> LAX | Direct: $404,49 | Connecting: $359,40\r\n",
      "DEN -> LAX | Direct: $186,19 | Connecting: $261,15\r\n",
      "MIA -> ATL | Direct: $187,19 | Connecting: $319,74\r\n",
      "MIA -> OAK | Direct: $NaN | Connecting: $635,21\r\n",
      "OAK -> PHL | Direct: $182,22 | Connecting: $632,24\r\n",
      "CLT -> ATL | Direct: $243,79 | Connecting: $358,67\r\n",
      "IAD -> OAK | Direct: $NaN | Connecting: $650,62\r\n",
      "BOS -> ATL | Direct: $289,90 | Connecting: $273,68\r\n",
      "BOS -> DEN | Direct: $344,89 | Connecting: $342,04\r\n",
      "BOS -> ORD | Direct: $213,46 | Connecting: $183,84\r\n",
      "ORD -> IAD | Direct: $223,75 | Connecting: $310,33\r\n",
      "OAK -> BOS | Direct: $NaN | Connecting: $639,95\r\n",
      "DTW -> JFK | Direct: $233,33 | Connecting: $437,04\r\n",
      "CLT -> LAX | Direct: $429,03 | Connecting: $427,38\r\n",
      "CLT -> IAD | Direct: $174,22 | Connecting: $231,43\r\n",
      "LAX -> JFK | Direct: $431,09 | Connecting: $418,81\r\n",
      "DEN -> IAD | Direct: $342,93 | Connecting: $367,98\r\n",
      "DEN -> JFK | Direct: $242,74 | Connecting: $530,23\r\n",
      "ATL -> EWR | Direct: $213,82 | Connecting: $208,86\r\n",
      "SFO -> IAD | Direct: $494,64 | Connecting: $485,24\r\n",
      "JFK -> LAX | Direct: $425,09 | Connecting: $392,06\r\n",
      "DEN -> ATL | Direct: $301,98 | Connecting: $322,10\r\n",
      "IAD -> LAX | Direct: $401,56 | Connecting: $420,44\r\n",
      "ATL -> MIA | Direct: $178,95 | Connecting: $311,63\r\n",
      "DFW -> OAK | Direct: $NaN | Connecting: $445,92\r\n",
      "SFO -> ORD | Direct: $421,02 | Connecting: $417,76\r\n",
      "DTW -> LGA | Direct: $195,03 | Connecting: $204,94\r\n",
      "OAK -> DTW | Direct: $458,32 | Connecting: $572,59\r\n",
      "DEN -> OAK | Direct: $112,06 | Connecting: $383,34\r\n",
      "IAD -> DEN | Direct: $335,58 | Connecting: $389,43\r\n",
      "JFK -> CLT | Direct: $226,17 | Connecting: $326,49\r\n",
      "SFO -> JFK | Direct: $421,06 | Connecting: $429,68\r\n",
      "JFK -> OAK | Direct: $NaN | Connecting: $565,78\r\n",
      "CLT -> MIA | Direct: $310,76 | Connecting: $281,51\r\n",
      "BOS -> SFO | Direct: $419,86 | Connecting: $425,09\r\n",
      "ORD -> DFW | Direct: $238,76 | Connecting: $287,64\r\n",
      "DTW -> LAX | Direct: $378,49 | Connecting: $416,18\r\n",
      "ATL -> BOS | Direct: $293,72 | Connecting: $271,16\r\n",
      "PHL -> CLT | Direct: $256,98 | Connecting: $278,75\r\n",
      "DFW -> BOS | Direct: $329,16 | Connecting: $298,24\r\n",
      "CLT -> ORD | Direct: $256,99 | Connecting: $287,37\r\n",
      "DEN -> BOS | Direct: $385,63 | Connecting: $344,89\r\n",
      "BOS -> PHL | Direct: $130,71 | Connecting: $277,83\r\n",
      "IAD -> CLT | Direct: $178,27 | Connecting: $268,70\r\n",
      "ATL -> ORD | Direct: $227,92 | Connecting: $229,97\r\n",
      "DFW -> SFO | Direct: $291,34 | Connecting: $316,51\r\n",
      "EWR -> MIA | Direct: $193,20 | Connecting: $255,55\r\n",
      "DTW -> SFO | Direct: $495,53 | Connecting: $493,52\r\n",
      "DTW -> CLT | Direct: $267,29 | Connecting: $299,07\r\n",
      "OAK -> MIA | Direct: $NaN | Connecting: $667,62\r\n",
      "CLT -> LGA | Direct: $207,43 | Connecting: $199,48\r\n",
      "CLT -> DEN | Direct: $343,23 | Connecting: $363,20\r\n"
     ]
    },
    {
     "data": {
      "text/plain": [
       "startTimeOptimized: Long = 1751658786557\r\n",
       "endTimeOptimized: Long = 1751658791937\r\n",
       "durationOptimized: Long = 5380\r\n"
      ]
     },
     "execution_count": 9,
     "metadata": {},
     "output_type": "execute_result"
    }
   ],
   "execution_count": 9
  },
  {
   "metadata": {},
   "cell_type": "markdown",
   "source": "## Time comparison and log from both jobs",
   "id": "ddd0950cae2707a4"
  },
  {
   "metadata": {
    "ExecuteTime": {
     "end_time": "2025-07-04T19:53:19.822745Z",
     "start_time": "2025-07-04T19:53:19.611738Z"
    }
   },
   "cell_type": "code",
   "source": [
    "def logOutput(jobName: String, outputPath: String, duration: Long): Unit = {\n",
    "    val writer = new PrintWriter(new File(outputPath))\n",
    "    writer.write(s\"Job '$jobName' completed in $duration ms.\\n\")\n",
    "    writer.close()\n",
    "}"
   ],
   "id": "bd2987b862ea58a4",
   "outputs": [
    {
     "data": {
      "text/plain": [
       "logOutput: (jobName: String, outputPath: String, duration: Long)Unit\r\n"
      ]
     },
     "execution_count": 11,
     "metadata": {},
     "output_type": "execute_result"
    }
   ],
   "execution_count": 11
  },
  {
   "metadata": {
    "ExecuteTime": {
     "end_time": "2025-07-04T19:53:45.736330Z",
     "start_time": "2025-07-04T19:53:45.571435Z"
    }
   },
   "cell_type": "code",
   "source": [
    "val path_non_optimized = path_to_output + \"non_optimized_job.log\"\n",
    "\n",
    "println(s\"\\n [TIME] Non-optimized job duration: ${durationNonOptimized} ms\")\n",
    "logOutput(\"Non-Optimized\", path_non_optimized, durationNonOptimized)"
   ],
   "id": "c8dbf57a8067b070",
   "outputs": [
    {
     "name": "stdout",
     "output_type": "stream",
     "text": [
      "\n",
      " [TIME] Non-optimized job duration: 34657 ms\r\n"
     ]
    },
    {
     "data": {
      "text/plain": [
       "path_non_optimized: String = ../../../../src/main/outputs/non_optimized_job.log\r\n"
      ]
     },
     "execution_count": 14,
     "metadata": {},
     "output_type": "execute_result"
    }
   ],
   "execution_count": 14
  },
  {
   "metadata": {
    "ExecuteTime": {
     "end_time": "2025-07-04T19:53:47.421747Z",
     "start_time": "2025-07-04T19:53:47.283450Z"
    }
   },
   "cell_type": "code",
   "source": [
    "val path_optimized = path_to_output + \"optimized_job.log\"\n",
    "\n",
    "println(s\"\\n [TIME] Optimized job duration: ${durationOptimized} ms\")\n",
    "logOutput(\"Optimized\", path_optimized, durationOptimized)"
   ],
   "id": "bcd27d7d18227e28",
   "outputs": [
    {
     "name": "stdout",
     "output_type": "stream",
     "text": [
      "\n",
      " [TIME] Optimized job duration: 5380 ms\r\n"
     ]
    },
    {
     "data": {
      "text/plain": [
       "path_optimized: String = ../../../../src/main/outputs/optimized_job.log\r\n"
      ]
     },
     "execution_count": 15,
     "metadata": {},
     "output_type": "execute_result"
    }
   ],
   "execution_count": 15
  }
 ],
 "metadata": {
  "kernelspec": {
   "display_name": "spylon-kernel",
   "language": "scala",
   "name": "spylon-kernel"
  },
  "language_info": {
   "codemirror_mode": {
    "name": "ipython",
    "version": 2
   },
   "file_extension": ".py",
   "mimetype": "text/x-python",
   "name": "python",
   "nbconvert_exporter": "python",
   "pygments_lexer": "ipython2",
   "version": "2.7.6"
  }
 },
 "nbformat": 4,
 "nbformat_minor": 5
}
