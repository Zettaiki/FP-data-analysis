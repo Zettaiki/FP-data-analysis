{
 "cells": [
  {
   "metadata": {},
   "cell_type": "markdown",
   "source": "# Debug Notebook",
   "id": "6c18f72de68004f7"
  },
  {
   "metadata": {},
   "cell_type": "markdown",
   "source": "This notebook is used to debug and test the Spark environment and configurations.",
   "id": "bf3e16edafae4b7c"
  },
  {
   "metadata": {},
   "cell_type": "markdown",
   "source": "## Setup",
   "id": "40bc65c21381e35a"
  },
  {
   "cell_type": "code",
   "id": "initial_id",
   "metadata": {
    "collapsed": true,
    "ExecuteTime": {
     "end_time": "2025-07-02T20:07:20.648569Z",
     "start_time": "2025-07-02T20:07:10.286268Z"
    }
   },
   "source": [
    "import org.apache.spark.rdd.RDD\n",
    "import org.apache.spark.sql.SparkSession"
   ],
   "outputs": [
    {
     "data": {
      "text/plain": [
       "Intitializing Scala interpreter ..."
      ]
     },
     "metadata": {},
     "output_type": "display_data"
    },
    {
     "data": {
      "text/plain": [
       "Spark Web UI available at http://DESKTOP-85RDGBL:4041\n",
       "SparkContext available as 'sc' (version = 3.5.1, master = local[*], app id = local-1751486834139)\n",
       "SparkSession available as 'spark'\n"
      ]
     },
     "metadata": {},
     "output_type": "display_data"
    },
    {
     "data": {
      "text/plain": [
       "import org.apache.spark.rdd.RDD\r\n",
       "import org.apache.spark.sql.SparkSession\r\n"
      ]
     },
     "execution_count": 1,
     "metadata": {},
     "output_type": "execute_result"
    }
   ],
   "execution_count": 1
  },
  {
   "metadata": {
    "ExecuteTime": {
     "end_time": "2025-07-02T20:07:22.193473Z",
     "start_time": "2025-07-02T20:07:20.680478Z"
    }
   },
   "cell_type": "code",
   "source": [
    "val spark = SparkSession.builder\n",
    "  .appName(\"Debug\")\n",
    "  .getOrCreate()"
   ],
   "id": "26ed389eb4c9a2d5",
   "outputs": [
    {
     "data": {
      "text/plain": [
       "spark: org.apache.spark.sql.SparkSession = org.apache.spark.sql.SparkSession@7e056281\r\n"
      ]
     },
     "execution_count": 2,
     "metadata": {},
     "output_type": "execute_result"
    }
   ],
   "execution_count": 2
  },
  {
   "metadata": {},
   "cell_type": "markdown",
   "source": "## Data loading, parsing, and cleaning",
   "id": "739197a3cf26cc50"
  },
  {
   "metadata": {},
   "cell_type": "markdown",
   "source": [
    "The structure of the dataset is as follows:\n",
    "- **legId**: An identifier for the flight.\n",
    "- **searchDate**: The date (`YYYY-MM-DD`) on which this entry was taken from Expedia.\n",
    "- **flightDate**: The date (`YYYY-MM-DD`) of the flight.\n",
    "- **startingAirport**: Three-character IATA airport code for the initial location.\n",
    "- **destinationAirport**: Three-character IATA airport code for the arrival location.\n",
    "- **fareBasisCode**: The fare basis code.\n",
    "- **travelDuration**: The travel duration in hours and minutes.\n",
    "- **elapsedDays**: The number of elapsed days (usually 0).\n",
    "- **isBasicEconomy**: Boolean indicating whether the ticket is for basic economy.\n",
    "- **isRefundable**: Boolean indicating whether the ticket is refundable.\n",
    "- **isNonStop**: Boolean indicating whether the flight is non-stop.\n",
    "- **baseFare**: The price of the ticket (in USD).\n",
    "- **totalFare**: The price of the ticket (in USD) including taxes and other fees.\n",
    "- **seatsRemaining**: Integer indicating the number of seats remaining.\n",
    "- **totalTravelDistance**: The total travel distance in miles. This data is sometimes missing.\n",
    "- **segmentsDepartureTimeEpochSeconds**: String containing the departure time (Unix time) for each leg of the trip, separated by `||`.\n",
    "- **segmentsDepartureTimeRaw**: String containing the departure time (ISO 8601 format: `YYYY-MM-DDThh:mm:ss.000±[hh]:00`) for each leg of the trip, separated by `||`.\n",
    "- **segmentsArrivalTimeEpochSeconds**: String containing the arrival time (Unix time) for each leg of the trip, separated by `||`.\n",
    "- **segmentsArrivalTimeRaw**: String containing the arrival time (ISO 8601 format: `YYYY-MM-DDThh:mm:ss.000±[hh]:00`) for each leg of the trip, separated by `||`.\n",
    "- **segmentsArrivalAirportCode**: String containing the IATA airport code for the arrival location for each leg of the trip, separated by `||`.\n",
    "- **segmentsDepartureAirportCode**: String containing the IATA airport code for the departure location for each leg of the trip, separated by `||`.\n",
    "- **segmentsAirlineName**: String containing the name of the airline that services each leg of the trip, separated by `||`.\n",
    "- **segmentsAirlineCode**: String containing the two-letter airline code that services each leg of the trip, separated by `||`.\n",
    "- **segmentsEquipmentDescription**: String containing the type of airplane used for each leg of the trip (e.g., \"Airbus A321\" or \"Boeing 737-800\"), separated by `||`.\n",
    "- **segmentsDurationInSeconds**: String containing the duration of the flight (in seconds) for each leg of the trip, separated by `||`.\n",
    "- **segmentsDistance**: String containing the distance traveled (in miles) for each leg of the trip, separated by `||`.\n",
    "- **segmentsCabinCode**: String containing the cabin class for each leg of the trip (e.g., \"coach\"), separated by `||`.\n"
   ],
   "id": "dcd767c7d0d0700"
  },
  {
   "metadata": {},
   "cell_type": "markdown",
   "source": "Because of Scala tuple limitations, we will use a case class `FlightRecord` to represent each flight record.",
   "id": "ad4f4f6dc845f05d"
  },
  {
   "metadata": {
    "ExecuteTime": {
     "end_time": "2025-07-02T21:47:15.848293Z",
     "start_time": "2025-07-02T21:47:14.839614Z"
    }
   },
   "cell_type": "code",
   "source": [
    "case class FlightRecord(\n",
    "  legId: String,\n",
    "  searchDate: String,\n",
    "  flightDate: String,\n",
    "  startingAirport: String,\n",
    "  destinationAirport: String,\n",
    "  fareBasisCode: String,\n",
    "  travelDuration: String,\n",
    "  elapsedDays: Int,\n",
    "  isBasicEconomy: Boolean,\n",
    "  isRefundable: Boolean,\n",
    "  isNonStop: Boolean,\n",
    "  baseFare: Double,\n",
    "  totalFare: Double,\n",
    "  seatsRemaining: Int,\n",
    "  totalTravelDistance: Option[Double],\n",
    "  segmentsDepartureTimeEpochSeconds: String,\n",
    "  segmentsDepartureTimeRaw: String,\n",
    "  segmentsArrivalTimeEpochSeconds: String,\n",
    "  segmentsArrivalTimeRaw: String,\n",
    "  segmentsArrivalAirportCode: String,\n",
    "  segmentsDepartureAirportCode: String,\n",
    "  segmentsAirlineName: String,\n",
    "  segmentsAirlineCode: String,\n",
    "  segmentsEquipmentDescription: String,\n",
    "  segmentsDurationInSeconds: String,\n",
    "  segmentsDistance: String,\n",
    "  segmentsCabinCode: String\n",
    ")"
   ],
   "id": "9856afa4477be104",
   "outputs": [
    {
     "data": {
      "text/plain": [
       "defined class FlightRecord\r\n"
      ]
     },
     "execution_count": 13,
     "metadata": {},
     "output_type": "execute_result"
    }
   ],
   "execution_count": 13
  },
  {
   "metadata": {
    "ExecuteTime": {
     "end_time": "2025-07-02T21:50:26.510177Z",
     "start_time": "2025-07-02T21:50:25.862937Z"
    }
   },
   "cell_type": "code",
   "source": [
    "def parseLine(line: String): FlightRecord = {\n",
    "  val columns = line.split(\",\", -1).map(_.trim)\n",
    "\n",
    "FlightRecord(\n",
    "    columns(0),\n",
    "    columns(1),\n",
    "    columns(2),\n",
    "    columns(3),\n",
    "    columns(4),\n",
    "    columns(5),\n",
    "    columns(6),\n",
    "    columns(7).toInt,\n",
    "    columns(8).toBoolean,\n",
    "    columns(9).toBoolean,\n",
    "    columns(10).toBoolean,\n",
    "    columns(11).toDouble,\n",
    "    columns(12).toDouble,\n",
    "    columns(13).toInt,\n",
    "    if (columns(14).isEmpty) None else Some(columns(14).toDouble),\n",
    "    columns(15),\n",
    "    columns(16),\n",
    "    columns(17),\n",
    "    columns(18),\n",
    "    columns(19),\n",
    "    columns(20),\n",
    "    columns(21),\n",
    "    columns(22),\n",
    "    columns(23),\n",
    "    columns(24),\n",
    "    columns(25),\n",
    "    columns(26)\n",
    "  )\n",
    "}"
   ],
   "id": "f06ca87f9a6b0a76",
   "outputs": [
    {
     "data": {
      "text/plain": [
       "parseLine: (line: String)FlightRecord\r\n"
      ]
     },
     "execution_count": 14,
     "metadata": {},
     "output_type": "execute_result"
    }
   ],
   "execution_count": 14
  },
  {
   "metadata": {},
   "cell_type": "markdown",
   "source": "Now we can load the dataset and parse it into an RDD of `FlightRecord` objects.",
   "id": "9f50c30cdc190932"
  },
  {
   "metadata": {
    "ExecuteTime": {
     "end_time": "2025-07-02T21:57:35.355024Z",
     "start_time": "2025-07-02T21:57:34.864673Z"
    }
   },
   "cell_type": "code",
   "source": [
    "val path = \"../../../../datasets/itineraries_sample.csv\"\n",
    "\n",
    "val rddRaw = spark.sparkContext.textFile(path)\n",
    "val rddParsed = rddRaw\n",
    "  .filter(line => !line.startsWith(\"legId\")) // Skip header\n",
    "  .map(parseLine)"
   ],
   "id": "ebb4a5017fab04b0",
   "outputs": [
    {
     "data": {
      "text/plain": [
       "path: String = ../../../../datasets/itineraries_sample.csv\r\n",
       "rddRaw: org.apache.spark.rdd.RDD[String] = ../../../../datasets/itineraries_sample.csv MapPartitionsRDD[5] at textFile at <console>:31\r\n",
       "rddParsed: org.apache.spark.rdd.RDD[FlightRecord] = MapPartitionsRDD[7] at map at <console>:34\r\n"
      ]
     },
     "execution_count": 15,
     "metadata": {},
     "output_type": "execute_result"
    }
   ],
   "execution_count": 15
  },
  {
   "metadata": {},
   "cell_type": "markdown",
   "source": "Before proceding, we will clean the data by removing records with missing or invalid values.",
   "id": "41a0e861a4d39c1e"
  },
  {
   "metadata": {
    "ExecuteTime": {
     "end_time": "2025-07-02T20:07:23.538164Z",
     "start_time": "2025-07-02T20:07:23.534824Z"
    }
   },
   "cell_type": "code",
   "source": "",
   "id": "90e43d6f04bb81a",
   "outputs": [],
   "execution_count": null
  },
  {
   "metadata": {},
   "cell_type": "markdown",
   "source": "Because the `travelDuration` rows are in ISO 8601 format, we will convert them to integer minutes for easier processing.",
   "id": "ed93bbe496c7f21d"
  },
  {
   "metadata": {},
   "cell_type": "code",
   "outputs": [],
   "execution_count": null,
   "source": "",
   "id": "c0341cf94ae72151"
  },
  {
   "metadata": {},
   "cell_type": "markdown",
   "source": "The other columns are already in a suitable format, so we can proceed with the analysis. Other columns will be left as strings because they are out of scope for the future jobs.",
   "id": "ab049fc033ffd1d3"
  },
  {
   "metadata": {},
   "cell_type": "markdown",
   "source": "### Time log functions for next jobs",
   "id": "6b75cc8194c7d459"
  },
  {
   "metadata": {},
   "cell_type": "code",
   "outputs": [],
   "execution_count": null,
   "source": "",
   "id": "ed8f997691612a3a"
  },
  {
   "metadata": {},
   "cell_type": "markdown",
   "source": "## Jobs",
   "id": "4c1d791ca28a5726"
  },
  {
   "metadata": {},
   "cell_type": "markdown",
   "source": [
    "- **Average Flight Price per Route:** Calculate the average ticket price for each departure-destination pair.\n",
    "- **Direct vs. Connecting Flights Price Comparison:** Compare average prices between non-stop and connecting flights."
   ],
   "id": "800fb46a6e0bb3af"
  },
  {
   "metadata": {},
   "cell_type": "markdown",
   "source": "### Job implementation: Non-optimized version",
   "id": "db8b94269483d959"
  },
  {
   "metadata": {},
   "cell_type": "code",
   "outputs": [],
   "execution_count": null,
   "source": "",
   "id": "accd5fa6040eafd7"
  },
  {
   "metadata": {},
   "cell_type": "markdown",
   "source": "### Job implementation: Optimized version",
   "id": "169f321e484cbdd5"
  },
  {
   "metadata": {},
   "cell_type": "code",
   "outputs": [],
   "execution_count": null,
   "source": "",
   "id": "c0740a66fa91414c"
  }
 ],
 "metadata": {
  "kernelspec": {
   "display_name": "spylon-kernel",
   "language": "scala",
   "name": "spylon-kernel"
  },
  "language_info": {
   "codemirror_mode": {
    "name": "ipython",
    "version": 2
   },
   "file_extension": ".py",
   "mimetype": "text/x-python",
   "name": "python",
   "nbconvert_exporter": "python",
   "pygments_lexer": "ipython2",
   "version": "2.7.6"
  }
 },
 "nbformat": 4,
 "nbformat_minor": 5
}
