{
 "cells": [
  {
   "metadata": {},
   "cell_type": "markdown",
   "source": "# Debug Notebook",
   "id": "6c18f72de68004f7"
  },
  {
   "metadata": {},
   "cell_type": "markdown",
   "source": "This notebook is used to debug and test the Spark environment and configurations.",
   "id": "bf3e16edafae4b7c"
  },
  {
   "metadata": {},
   "cell_type": "markdown",
   "source": "## Setup",
   "id": "40bc65c21381e35a"
  },
  {
   "cell_type": "code",
   "id": "initial_id",
   "metadata": {
    "collapsed": true,
    "ExecuteTime": {
     "end_time": "2025-07-03T19:44:37.744580Z",
     "start_time": "2025-07-03T19:44:27.311078Z"
    }
   },
   "source": [
    "import org.apache.spark.rdd.RDD\n",
    "import org.apache.spark.sql.SparkSession\n",
    "import org.apache.spark.sql.Row\n",
    "\n",
    "import java.time.LocalDate\n",
    "import java.time.format.DateTimeFormatter"
   ],
   "outputs": [
    {
     "data": {
      "text/plain": [
       "Intitializing Scala interpreter ..."
      ]
     },
     "metadata": {},
     "output_type": "display_data"
    },
    {
     "data": {
      "text/plain": [
       "Spark Web UI available at http://DESKTOP-85RDGBL:4040\n",
       "SparkContext available as 'sc' (version = 3.5.1, master = local[*], app id = local-1751571870816)\n",
       "SparkSession available as 'spark'\n"
      ]
     },
     "metadata": {},
     "output_type": "display_data"
    },
    {
     "data": {
      "text/plain": [
       "import org.apache.spark.rdd.RDD\r\n",
       "import org.apache.spark.sql.SparkSession\r\n",
       "import org.apache.spark.sql.Row\r\n",
       "import java.time.LocalDate\r\n",
       "import java.time.format.DateTimeFormatter\r\n"
      ]
     },
     "execution_count": 1,
     "metadata": {},
     "output_type": "execute_result"
    }
   ],
   "execution_count": 1
  },
  {
   "metadata": {
    "ExecuteTime": {
     "end_time": "2025-07-03T19:45:18.346015Z",
     "start_time": "2025-07-03T19:45:17.184080Z"
    }
   },
   "cell_type": "code",
   "source": [
    "val path_to_datasets = \"../../../../datasets/\"\n",
    "val path_to_output = \"../../../../src/main/outputs/\"\n",
    "\n",
    "val path_to_sample = path_to_datasets + \"itineraries_sample.csv\"\n",
    "\n",
    "val spark = SparkSession.builder\n",
    "  .appName(\"Debug\")\n",
    "  .getOrCreate()"
   ],
   "id": "26ed389eb4c9a2d5",
   "outputs": [
    {
     "data": {
      "text/plain": [
       "path_to_datasets: String = ../../../../datasets/\r\n",
       "path_to_output: String = ../../../../src/main/outputs/\r\n",
       "path_to_sample: String = ../../../../datasets/itineraries_sample.csv\r\n",
       "spark: org.apache.spark.sql.SparkSession = org.apache.spark.sql.SparkSession@3626603c\r\n"
      ]
     },
     "execution_count": 4,
     "metadata": {},
     "output_type": "execute_result"
    }
   ],
   "execution_count": 4
  },
  {
   "metadata": {},
   "cell_type": "markdown",
   "source": "## Data loading, parsing, and cleaning",
   "id": "739197a3cf26cc50"
  },
  {
   "metadata": {},
   "cell_type": "markdown",
   "source": [
    "The structure of the dataset is as follows:\n",
    "- **legId**: An identifier for the flight.\n",
    "- **searchDate**: The date (`YYYY-MM-DD`) on which this entry was taken from Expedia.\n",
    "- **flightDate**: The date (`YYYY-MM-DD`) of the flight.\n",
    "- **startingAirport**: Three-character IATA airport code for the initial location.\n",
    "- **destinationAirport**: Three-character IATA airport code for the arrival location.\n",
    "- **fareBasisCode**: The fare basis code.\n",
    "- **travelDuration**: The travel duration in hours and minutes.\n",
    "- **elapsedDays**: The number of elapsed days (usually 0).\n",
    "- **isBasicEconomy**: Boolean indicating whether the ticket is for basic economy.\n",
    "- **isRefundable**: Boolean indicating whether the ticket is refundable.\n",
    "- **isNonStop**: Boolean indicating whether the flight is non-stop.\n",
    "- **baseFare**: The price of the ticket (in USD).\n",
    "- **totalFare**: The price of the ticket (in USD) including taxes and other fees.\n",
    "- **seatsRemaining**: Integer indicating the number of seats remaining.\n",
    "- **totalTravelDistance**: The total travel distance in miles. This data is sometimes missing.\n",
    "- **segmentsDepartureTimeEpochSeconds**: String containing the departure time (Unix time) for each leg of the trip, separated by `||`.\n",
    "- **segmentsDepartureTimeRaw**: String containing the departure time (ISO 8601 format: `YYYY-MM-DDThh:mm:ss.000±[hh]:00`) for each leg of the trip, separated by `||`.\n",
    "- **segmentsArrivalTimeEpochSeconds**: String containing the arrival time (Unix time) for each leg of the trip, separated by `||`.\n",
    "- **segmentsArrivalTimeRaw**: String containing the arrival time (ISO 8601 format: `YYYY-MM-DDThh:mm:ss.000±[hh]:00`) for each leg of the trip, separated by `||`.\n",
    "- **segmentsArrivalAirportCode**: String containing the IATA airport code for the arrival location for each leg of the trip, separated by `||`.\n",
    "- **segmentsDepartureAirportCode**: String containing the IATA airport code for the departure location for each leg of the trip, separated by `||`.\n",
    "- **segmentsAirlineName**: String containing the name of the airline that services each leg of the trip, separated by `||`.\n",
    "- **segmentsAirlineCode**: String containing the two-letter airline code that services each leg of the trip, separated by `||`.\n",
    "- **segmentsEquipmentDescription**: String containing the type of airplane used for each leg of the trip (e.g., \"Airbus A321\" or \"Boeing 737-800\"), separated by `||`.\n",
    "- **segmentsDurationInSeconds**: String containing the duration of the flight (in seconds) for each leg of the trip, separated by `||`.\n",
    "- **segmentsDistance**: String containing the distance traveled (in miles) for each leg of the trip, separated by `||`.\n",
    "- **segmentsCabinCode**: String containing the cabin class for each leg of the trip (e.g., \"coach\"), separated by `||`.\n"
   ],
   "id": "dcd767c7d0d0700"
  },
  {
   "metadata": {
    "ExecuteTime": {
     "end_time": "2025-07-03T19:45:25.763336Z",
     "start_time": "2025-07-03T19:45:24.992377Z"
    }
   },
   "cell_type": "code",
   "source": [
    "case class Flight(\n",
    "    legId: String,\n",
    "    searchDate: LocalDate,\n",
    "    flightDate: LocalDate,\n",
    "    startingAirport: String,\n",
    "    destinationAirport: String,\n",
    "    fareBasisCode: String,\n",
    "    travelDuration: Int,\n",
    "    elapsedDays: Int,\n",
    "    isBasicEconomy: Boolean,\n",
    "    isRefundable: Boolean,\n",
    "    isNonStop: Boolean,\n",
    "    baseFare: Double,\n",
    "    totalFare: Double,\n",
    "    seatsRemaining: Int,\n",
    "    totalTravelDistance: Double,\n",
    "    segmentsDepartureTimeEpochSeconds: String,\n",
    "    segmentsDepartureTimeRaw: String,\n",
    "    segmentsArrivalTimeEpochSeconds: String,\n",
    "    segmentsArrivalTimeRaw: String,\n",
    "    segmentsArrivalAirportCode: String,\n",
    "    segmentsDepartureAirportCode: String,\n",
    "    segmentsAirlineName: String,\n",
    "    segmentsAirlineCode: String,\n",
    "    segmentsEquipmentDescription: String,\n",
    "    segmentsDurationInSeconds: String,\n",
    "    segmentsDistance: String,\n",
    "    segmentsCabinCode: String\n",
    ")"
   ],
   "id": "3dafcb60417dcf0b",
   "outputs": [
    {
     "data": {
      "text/plain": [
       "defined class Flight\r\n"
      ]
     },
     "execution_count": 5,
     "metadata": {},
     "output_type": "execute_result"
    }
   ],
   "execution_count": 5
  },
  {
   "metadata": {},
   "cell_type": "markdown",
   "source": [
    "Now we define the parsing function.\n",
    "> Because the `travelDuration` rows are in ISO 8601 format, we will convert them to integer minutes for easier processing."
   ],
   "id": "b40f24a9751eb0a5"
  },
  {
   "metadata": {
    "ExecuteTime": {
     "end_time": "2025-07-03T19:45:31.173485Z",
     "start_time": "2025-07-03T19:45:30.535189Z"
    }
   },
   "cell_type": "code",
   "source": [
    "def parseLine(line: String): Flight = {\n",
    "    val cols = line.split(\",\", -1).map(_.trim)\n",
    "\n",
    "    val dateFormatter = DateTimeFormatter.ofPattern(\"yyyy-MM-dd\")\n",
    "\n",
    "    def parseDurationToMinutes(duration: String): Int = {\n",
    "        val hourPattern = \"PT(\\\\d+)H\".r\n",
    "        val minutePattern = \"PT(?:\\\\d+H)?(\\\\d+)M\".r\n",
    "\n",
    "        val hours = hourPattern.findFirstMatchIn(duration).map(_.group(1).toInt).getOrElse(0)\n",
    "        val minutes = minutePattern.findFirstMatchIn(duration).map(_.group(1).toInt).getOrElse(0)\n",
    "\n",
    "        hours * 60 + minutes\n",
    "    }\n",
    "\n",
    "    def toIntSafe(s: String): Int = if (s.isEmpty) 0 else s.toInt\n",
    "    def toDoubleSafe(s: String): Double = if (s.isEmpty) 0.0 else s.toDouble\n",
    "    def toBooleanSafe(s: String): Boolean = if (s.isEmpty) false else s.toBoolean\n",
    "\n",
    "    Flight(\n",
    "        legId = cols(0),\n",
    "        searchDate = LocalDate.parse(cols(1), dateFormatter),\n",
    "        flightDate = LocalDate.parse(cols(2), dateFormatter),\n",
    "        startingAirport = cols(3),\n",
    "        destinationAirport = cols(4),\n",
    "        fareBasisCode = cols(5),\n",
    "        travelDuration = parseDurationToMinutes(cols(6)),\n",
    "        elapsedDays = toIntSafe(cols(7)),\n",
    "        isBasicEconomy = toBooleanSafe(cols(8)),\n",
    "        isRefundable = toBooleanSafe(cols(9)),\n",
    "        isNonStop = toBooleanSafe(cols(10)),\n",
    "        baseFare = toDoubleSafe(cols(11)),\n",
    "        totalFare = toDoubleSafe(cols(12)),\n",
    "        seatsRemaining = toIntSafe(cols(13)),\n",
    "        totalTravelDistance = toDoubleSafe(cols(14)),\n",
    "        segmentsDepartureTimeEpochSeconds = cols(15),\n",
    "        segmentsDepartureTimeRaw = cols(16),\n",
    "        segmentsArrivalTimeEpochSeconds = cols(17),\n",
    "        segmentsArrivalTimeRaw = cols(18),\n",
    "        segmentsArrivalAirportCode = cols(19),\n",
    "        segmentsDepartureAirportCode = cols(20),\n",
    "        segmentsAirlineName = cols(21),\n",
    "        segmentsAirlineCode = cols(22),\n",
    "        segmentsEquipmentDescription = cols(23),\n",
    "        segmentsDurationInSeconds = cols(24),\n",
    "        segmentsDistance = cols(25),\n",
    "        segmentsCabinCode = cols(26)\n",
    "    )\n",
    "}"
   ],
   "id": "f06ca87f9a6b0a76",
   "outputs": [
    {
     "data": {
      "text/plain": [
       "parseLine: (line: String)Flight\r\n"
      ]
     },
     "execution_count": 6,
     "metadata": {},
     "output_type": "execute_result"
    }
   ],
   "execution_count": 6
  },
  {
   "metadata": {},
   "cell_type": "markdown",
   "source": "Now we can load the dataset and parse it into an RDD of `Flight` case class.",
   "id": "9f50c30cdc190932"
  },
  {
   "metadata": {
    "ExecuteTime": {
     "end_time": "2025-07-03T19:46:53.914564Z",
     "start_time": "2025-07-03T19:46:53.248529Z"
    }
   },
   "cell_type": "code",
   "source": [
    "var rddRaw = spark.sparkContext.textFile(path_to_sample).filter(line => !line.startsWith(\"legId\"))\n",
    "var rddParsed = rddRaw.map(parseLine)"
   ],
   "id": "ebb4a5017fab04b0",
   "outputs": [
    {
     "data": {
      "text/plain": [
       "rddRaw: org.apache.spark.rdd.RDD[String] = MapPartitionsRDD[2] at filter at <console>:31\r\n",
       "rddParsed: org.apache.spark.rdd.RDD[Flight] = MapPartitionsRDD[3] at map at <console>:32\r\n"
      ]
     },
     "execution_count": 8,
     "metadata": {},
     "output_type": "execute_result"
    }
   ],
   "execution_count": 8
  },
  {
   "metadata": {
    "ExecuteTime": {
     "end_time": "2025-07-03T19:58:43.186547Z",
     "start_time": "2025-07-03T19:58:42.976564Z"
    }
   },
   "cell_type": "code",
   "source": [
    "val sampleRaw = rddRaw.take(5)              // Always safe: text only\n",
    "val sampleParsed = sampleRaw.map(parseLine) // Run locally, no Spark involved\n",
    "sampleParsed.foreach(println)"
   ],
   "id": "c0a8c71c995f6321",
   "outputs": [
    {
     "name": "stdout",
     "output_type": "stream",
     "text": [
      "Flight(cb345693479e84838dfaac346b8e8d6a,2022-04-16,2022-04-17,ATL,BOS,VNR,339,0,false,false,false,183.0,290.58,0,0.0,1650187560||1650196800,2022-04-17T05:26:00.000-04:00||2022-04-17T08:00:00.000-04:00,1650194400||1650207900,2022-04-17T07:20:00.000-04:00||2022-04-17T11:05:00.000-04:00,FLL||BOS,ATL||FLL,Spirit Airlines||Spirit Airlines,NK||NK,AIRBUS INDUSTRIE A321 SHARKLETS||,6840||11100,None||None,coach||coach)\r\n",
      "Flight(80d7a9d00fbcdd1aaa9ec61187b5dfe1,2022-04-16,2022-04-17,ATL,DFW,YNR,757,0,false,false,false,232.0,339.58,0,0.0,1650195000||1650228900,2022-04-17T07:30:00.000-04:00||2022-04-17T16:55:00.000-04:00,1650201840||1650240420,2022-04-17T09:24:00.000-04:00||2022-04-17T19:07:00.000-05:00,FLL||DFW,ATL||FLL,Spirit Airlines||Spirit Airlines,NK||NK,AIRBUS INDUSTRIE A321 SHARKLETS||AIRBUS INDUSTRIE A321 SHARKLETS,6840||11520,None||None,coach||coach)\r\n",
      "Flight(ce824fe4eea70d2310b0f01559b52575,2022-04-16,2022-04-17,ATL,DTW,QAA0OFEN,344,0,false,false,false,255.81,298.6,1,840.0,1650232380||1650247800,2022-04-17T17:53:00.000-04:00||2022-04-17T21:10:00.000-05:00,1650239580||1650253020,2022-04-17T18:53:00.000-05:00||2022-04-17T23:37:00.000-04:00,ORD||DTW,ATL||ORD,United||United,UA||UA,Airbus A320||Embraer 175 (Enhanced Winglets),7200||5220,600||240,coach||coach)\r\n",
      "Flight(fcaf646d1bdcf0bbb42cc7031b95cda4,2022-04-16,2022-04-17,ATL,DTW,L0AIZNN1,232,0,false,false,false,273.49,316.1,2,733.0,1650226680||1650234000,2022-04-17T16:18:00.000-04:00||2022-04-17T18:20:00.000-04:00,1650230760||1650240600,2022-04-17T17:26:00.000-04:00||2022-04-17T20:10:00.000-04:00,CLT||DTW,ATL||CLT,American Airlines||American Airlines,AA||AA,Airbus A319||Airbus A320,4080||6600,228||505,coach||coach)\r\n",
      "Flight(548688048483b3ff9bc62333880da451,2022-04-16,2022-04-17,ATL,LAX,KA0NA0MC,712,1,false,false,false,494.88,561.2,4,2047.0,1650250740||1650280800,2022-04-17T22:59:00.000-04:00||2022-04-18T06:20:00.000-05:00,1650259560||1650293460,2022-04-18T00:26:00.000-05:00||2022-04-18T07:51:00.000-07:00,AUS||LAX,ATL||AUS,Delta||Delta,DL||DL,Airbus A321||Airbus A320,8820||12660,811||1236,coach||coach)\r\n"
     ]
    },
    {
     "data": {
      "text/plain": [
       "sampleRaw: Array[String] = Array(cb345693479e84838dfaac346b8e8d6a,2022-04-16,2022-04-17,ATL,BOS,VNR,PT5H39M,0,False,False,False,183.0,290.58,0,,1650187560||1650196800,2022-04-17T05:26:00.000-04:00||2022-04-17T08:00:00.000-04:00,1650194400||1650207900,2022-04-17T07:20:00.000-04:00||2022-04-17T11:05:00.000-04:00,FLL||BOS,ATL||FLL,Spirit Airlines||Spirit Airlines,NK||NK,AIRBUS INDUSTRIE A321 SHARKLETS||,6840||11100,None||None,coach||coach, 80d7a9d00fbcdd1aaa9ec61187b5dfe1,2022-04-16,2022-04-17,ATL,DFW,YNR,PT12H37M,0,False,False,False,232.0,339.58,0,,1650195000||1650228900,2022-04-17T07:30:00.000-04:00||2022-04-17T16:55:00.000-04:00,1650201840||1650240420,2022-04-17T09:24:00.000-04:00||2022-04-17T19:07:00.000-05:00,FLL||DFW,ATL||FLL,Spirit Airlines||Spirit Airlines,NK||NK,AIRBUS INDUSTRIE A...\r\n"
      ]
     },
     "execution_count": 20,
     "metadata": {},
     "output_type": "execute_result"
    }
   ],
   "execution_count": 20
  },
  {
   "metadata": {},
   "cell_type": "markdown",
   "source": "Before proceding, we will clean the data by removing records with missing or invalid values.",
   "id": "41a0e861a4d39c1e"
  },
  {
   "metadata": {},
   "cell_type": "code",
   "source": [
    "val rddClean = rddParsed.filter { row =>\n",
    "    (0 until row.length).forall { i =>\n",
    "        val value = row.get(i)\n",
    "        value != null && value.toString.nonEmpty\n",
    "    }\n",
    "}"
   ],
   "id": "90e43d6f04bb81a",
   "outputs": [],
   "execution_count": null
  },
  {
   "metadata": {},
   "cell_type": "code",
   "source": [
    "val totalRows = rddClean.count()\n",
    "println(s\"Total rows: $totalRows\")"
   ],
   "id": "c0341cf94ae72151",
   "outputs": [],
   "execution_count": null
  },
  {
   "metadata": {},
   "cell_type": "markdown",
   "source": "The other columns are already in a suitable format, so we can proceed with the analysis. Other columns will be left as strings because they are out of scope for the future jobs.",
   "id": "ab049fc033ffd1d3"
  },
  {
   "metadata": {},
   "cell_type": "markdown",
   "source": "## Jobs",
   "id": "4c1d791ca28a5726"
  },
  {
   "metadata": {},
   "cell_type": "markdown",
   "source": [
    "- **Average Flight Price per Route:** Calculate the average ticket price for each departure-destination pair.\n",
    "- **Direct vs. Connecting Flights Price Comparison:** Compare average prices between non-stop and connecting flights."
   ],
   "id": "800fb46a6e0bb3af"
  },
  {
   "metadata": {},
   "cell_type": "markdown",
   "source": "### Job 1: Average Flight Price per Route",
   "id": "db8b94269483d959"
  },
  {
   "metadata": {},
   "cell_type": "markdown",
   "source": "#### Non-optimized version",
   "id": "9eccbe929a908eb7"
  },
  {
   "metadata": {},
   "cell_type": "code",
   "source": "",
   "id": "accd5fa6040eafd7",
   "outputs": [],
   "execution_count": null
  },
  {
   "metadata": {},
   "cell_type": "markdown",
   "source": "#### Optimized version\n",
   "id": "cd13d9d9f4f8f660"
  },
  {
   "metadata": {},
   "cell_type": "code",
   "source": "",
   "id": "a2eec8b541e17a29",
   "outputs": [],
   "execution_count": null
  },
  {
   "metadata": {},
   "cell_type": "markdown",
   "source": "### Job 2: Direct vs. Connecting Flights Price Comparison",
   "id": "169f321e484cbdd5"
  },
  {
   "metadata": {},
   "cell_type": "markdown",
   "source": "#### Non-optimized version",
   "id": "82fc3ed853c88e8f"
  },
  {
   "metadata": {},
   "cell_type": "code",
   "outputs": [],
   "execution_count": null,
   "source": "",
   "id": "4d6d2dc0a4ef328c"
  },
  {
   "metadata": {},
   "cell_type": "markdown",
   "source": "#### Optimized version",
   "id": "c0ed7a0bbaa756d"
  },
  {
   "metadata": {},
   "cell_type": "code",
   "source": "",
   "id": "c0740a66fa91414c",
   "outputs": [],
   "execution_count": null
  }
 ],
 "metadata": {
  "kernelspec": {
   "display_name": "spylon-kernel",
   "language": "scala",
   "name": "spylon-kernel"
  },
  "language_info": {
   "codemirror_mode": {
    "name": "ipython",
    "version": 2
   },
   "file_extension": ".py",
   "mimetype": "text/x-python",
   "name": "python",
   "nbconvert_exporter": "python",
   "pygments_lexer": "ipython2",
   "version": "2.7.6"
  }
 },
 "nbformat": 4,
 "nbformat_minor": 5
}
